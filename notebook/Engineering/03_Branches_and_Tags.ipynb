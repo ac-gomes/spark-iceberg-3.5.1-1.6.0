{
 "cells": [
  {
   "cell_type": "code",
   "execution_count": null,
   "id": "37d3c261-0133-4a1c-8b79-bc7623c1ebd1",
   "metadata": {},
   "outputs": [],
   "source": [
    "from pyspark.sql import SparkSession\n",
    "spark = SparkSession.builder \\\n",
    "    .appName('branches') \\\n",
    "    .config(\"spark.jars\", \"/opt/spark/jars/iceberg-spark-runtime-3.5_2.12-1.6.0.jar\") \\\n",
    "    .config(\"spark.sql.extensions\", \"org.apache.iceberg.spark.extensions.IcebergSparkSessionExtensions\") \\\n",
    "    .config(\"spark.sql.catalog.local\", \"org.apache.iceberg.spark.SparkCatalog\") \\\n",
    "    .config(\"spark.sql.catalog.spark_catalog.type\", \"hive\") \\\n",
    "    .config(\"spark.sql.catalog.local.warehouse\", \"s3a://datalake/iceberg\") \\\n",
    "    .getOrCreate()\n",
    "\n",
    "#Ajuste de log WARN log para ERROR\n",
    "spark.sparkContext.setLogLevel(\"ERROR\")"
   ]
  },
  {
   "cell_type": "markdown",
   "id": "593b11e5-7a0f-47c7-9ddf-819c9be0773d",
   "metadata": {},
   "source": [
    "### Branching and Tagging - Visão Geral\n",
    "\n",
    "As tabelas do Iceberg matem um log de snapshots, que representão as mudanças aplicadas na tabela.\n",
    "Os snapshots são fundamentais no formato de tabela Iceberg, pois eles garantem o isolamento das onsultas/queries e permitem o \"time travel\" entre as diferentes \"versões de dados\" da tabela.\n",
    "\n",
    "Para carontrolar o tamanho dos metadados e custos de armazenamento, Iceberg fornece um gerenciamento de ciclo de vida de snapshots. Que pode ser executado via procedures como **_expire_snapshots_** para remoção de de arquivos de dados não utilizados com base nas propriedades dos snapshots.\n",
    "\n",
    "Para possibilidar o gerenciamento de ciclo de vidade de snapshots. O Iceberg suporta Branches e Tags, Esses recursos garantem que os snapshots tenham seus proprios ciclos de vida que por sua vez podem ser controlados por politicas de retenção em nivel de Branch e tag.\n",
    "\n",
    "fonte: https://iceberg.apache.org/docs/1.6.1/branching/"
   ]
  },
  {
   "cell_type": "markdown",
   "id": "96f57465-6db0-49b2-955e-25554dce42b1",
   "metadata": {},
   "source": [
    "### Criar Branche e Exibir seus dados"
   ]
  },
  {
   "cell_type": "code",
   "execution_count": null,
   "id": "ddd57b07-207b-4ff4-b38b-10e68a3b6bc6",
   "metadata": {},
   "outputs": [],
   "source": [
    "# Criar uma branch chamada dev_branch\n",
    "spark.sql(\"ALTER TABLE iceberg.bronze.vendas CREATE BRANCH dev_branch\").show()"
   ]
  },
  {
   "cell_type": "code",
   "execution_count": null,
   "id": "91e469ac-a818-4150-89c8-f1b86420bd93",
   "metadata": {},
   "outputs": [],
   "source": [
    "## Exibir os dados da brach dev_branch\n",
    "spark.sql(\"SELECT * FROM iceberg.bronze.vendas.branch_dev_branch\").toPandas()"
   ]
  },
  {
   "cell_type": "markdown",
   "id": "16b99d22-87f3-41e0-8dcf-4cede46f68be",
   "metadata": {},
   "source": [
    "### Inspecionar tabela"
   ]
  },
  {
   "cell_type": "code",
   "execution_count": null,
   "id": "f656f948-b3a5-47cb-accf-d4c2ffa49c3c",
   "metadata": {},
   "outputs": [],
   "source": [
    "# Listar branches\n",
    "spark.sql(\"SELECT * FROM iceberg.bronze.vendas.refs;\").toPandas()"
   ]
  },
  {
   "cell_type": "code",
   "execution_count": null,
   "id": "0e7ac96d-c22e-4669-b0ce-8c16c0f3c325",
   "metadata": {},
   "outputs": [],
   "source": [
    "# Listar snapshots\n",
    "spark.sql(\"SELECT * FROM iceberg.bronze.vendas.snapshots;\").toPandas()"
   ]
  },
  {
   "cell_type": "markdown",
   "id": "aeb54146-ded4-42a4-94bf-679afe8d44e0",
   "metadata": {},
   "source": [
    "### Excluir dados da brach dev_branch"
   ]
  },
  {
   "cell_type": "code",
   "execution_count": null,
   "id": "507598da-0ffc-4f7c-bbd2-5dde4e47155f",
   "metadata": {},
   "outputs": [],
   "source": [
    "## Excluir algumas linhas da brach dev_branch\n",
    "\n",
    "spark.sql(\"\"\"\n",
    "    DELETE FROM iceberg.bronze.vendas.branch_init_branch\n",
    "    WHERE product_line_id = '1002';\n",
    "\"\"\").show()"
   ]
  },
  {
   "cell_type": "code",
   "execution_count": null,
   "id": "da0544c1-d7db-4b31-848c-f29f12876bba",
   "metadata": {},
   "outputs": [],
   "source": [
    "## Exibir novamente os dados da brach dev_branch\n",
    "\n",
    "spark.sql(\"SELECT * FROM iceberg.bronze.sales_order.branch_dev_branch\").toPandas()"
   ]
  },
  {
   "cell_type": "code",
   "execution_count": null,
   "id": "b6e5290b-540a-4024-bb90-a2734b637e92",
   "metadata": {},
   "outputs": [],
   "source": [
    "## Exibir os dados da brach main\n",
    "spark.sql(\"SELECT * FROM iceberg.bronze.sales_order\").toPandas()"
   ]
  },
  {
   "cell_type": "markdown",
   "id": "490e8f4f-ba04-4753-9075-d9e3105bb628",
   "metadata": {},
   "source": [
    "### Criar Tags"
   ]
  },
  {
   "cell_type": "code",
   "execution_count": null,
   "id": "e1507b5a-e42a-4be1-b6d9-465a2c4ebbcf",
   "metadata": {},
   "outputs": [],
   "source": []
  }
 ],
 "metadata": {
  "kernelspec": {
   "display_name": "Python 3 (ipykernel)",
   "language": "python",
   "name": "python3"
  },
  "language_info": {
   "codemirror_mode": {
    "name": "ipython",
    "version": 3
   },
   "file_extension": ".py",
   "mimetype": "text/x-python",
   "name": "python",
   "nbconvert_exporter": "python",
   "pygments_lexer": "ipython3",
   "version": "3.8.10"
  }
 },
 "nbformat": 4,
 "nbformat_minor": 5
}
