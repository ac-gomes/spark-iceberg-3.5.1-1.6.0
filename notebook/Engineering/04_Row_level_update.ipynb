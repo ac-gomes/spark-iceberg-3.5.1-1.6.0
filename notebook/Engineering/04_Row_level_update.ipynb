{
 "cells": [
  {
   "cell_type": "code",
   "execution_count": 3,
   "id": "b0a60e4b-1c8e-4d2e-a5e9-b05c4116d964",
   "metadata": {},
   "outputs": [
    {
     "name": "stderr",
     "output_type": "stream",
     "text": [
      "24/11/05 22:35:00 WARN NativeCodeLoader: Unable to load native-hadoop library for your platform... using builtin-java classes where applicable\n",
      "Setting default log level to \"WARN\".\n",
      "To adjust logging level use sc.setLogLevel(newLevel). For SparkR, use setLogLevel(newLevel).\n"
     ]
    }
   ],
   "source": [
    "from pyspark.sql import SparkSession\n",
    "spark = SparkSession.builder \\\n",
    "    .appName('dataincode') \\\n",
    "    .config(\"spark.jars\", \"/opt/spark/jars/iceberg-spark-runtime-3.5_2.12-1.6.0.jar\") \\\n",
    "    .config(\"spark.sql.extensions\", \"org.apache.iceberg.spark.extensions.IcebergSparkSessionExtensions\") \\\n",
    "    .config(\"spark.sql.catalog.local\", \"org.apache.iceberg.spark.SparkCatalog\") \\\n",
    "    .config(\"spark.sql.catalog.spark_catalog.type\", \"hive\") \\\n",
    "    .config(\"spark.sql.catalog.local.warehouse\", \"s3a://datalake/iceberg\") \\\n",
    "    .getOrCreate()\n",
    "\n",
    "#Ajuste de log WARN log para ERROR\n",
    "spark.sparkContext.setLogLevel(\"ERROR\")"
   ]
  },
  {
   "cell_type": "markdown",
   "id": "307bed80-785c-4593-a2fe-9d4414a1e119",
   "metadata": {},
   "source": [
    "### Atualizações em Nível de Linha no Apache Iceberg\n",
    "\n",
    "O Apache Iceberg gerencia atualizações em nível de linha por meio de dois modos principais: **copy-on-write (COW)** e **merge-on-read (MOR)**.\n",
    "\n",
    "**Copy-on-Write (COW):** COW é o modo padrão no Iceberg. Quando registros na tabela são alterados (atualizados ou excluídos), os arquivos de dados associados a esses registros são reescritos com as alterações aplicadas. Este modo oferece as leituras mais rápidas, mas tem as atualizações e exclusões mais lentas.\n",
    "\n",
    "**Merge-on-Read (MOR):** No MOR, as atualizações e exclusões não resultam na reescrita imediata de arquivos de dados. Em vez disso, \"arquivos deletados\" são criados para registrar as alterações. Esses arquivos deletados são então usados durante as operações de leitura para filtrar ou atualizar os dados afetados. O MOR geralmente oferece leituras e gravações rápidas. No entanto, o uso regular de compactação é recomendado para minimizar os custos de leitura, pois vários arquivos de exclusão podem se acumular ao longo do tempo, levando a operações de leitura mais complexas.\n",
    "\n",
    "**Tipos de arquivo de exclusão:** Existem dois tipos de arquivos de exclusão: arquivos de exclusão posicional e arquivos de exclusão de igualdade. A escolha do tipo de arquivo de exclusão afeta o desempenho de leitura e gravação.\n",
    "\n",
    "**Caso de Uso :** Se as leituras forem mais frequentes que as gravações, o COW pode ser mais adequado. Se as gravações forem frequentes, o MOR pode ser preferível.\n",
    "\n",
    "**Fontes:**\n",
    "\n",
    "https://iceberg.apache.org/docs/1.5.2/configuration/#write-properties<br>\n",
    "Apache Iceberg: The Definitive Guide<br>\n",
    "https://aws.amazon.com/pt/blogs/big-data/use-apache-iceberg-in-a-data-lake-to-support-incremental-data-processing/?ref=guptaakashdeep.com\n"
   ]
  },
  {
   "cell_type": "markdown",
   "id": "1bde85af-9909-4fee-a765-96c7c289672d",
   "metadata": {},
   "source": [
    "####  <span style=\"color:blue\">COW:</span>\n",
    "Sempre que uma linha em um arquivo de dados é atualizada ou excluída, todo o arquivo de dados é reescrito com as alterações aplicadas. Isso significa que mesmo se apenas uma única linha for alterada, um novo arquivo de dados será criado, e o antigo será substituído\n",
    "\n",
    "**Vantagens:** Leitura rápida, pois o leitor só precisa ler os dados sem mesclá-los com arquivos excluídos ou atualizados.\n",
    "\n",
    "**Desvantagens:** Gravação lenta, pois a reescrita de arquivos de dados inteiros pode ser um processo demorado, especialmente se houver atualizações frequentes.\n",
    "\n",
    "#### Cenários de uso ideais para COW:\n",
    "**Priorizando leituras rápidas:** Se o desempenho de leitura for crítico e as gravações puderem ser um pouco mais lentas, COW é uma boa opção. Em resumo mais ```INSERT``` menos ```UPDATE, DELETE```\n"
   ]
  },
  {
   "cell_type": "markdown",
   "id": "0de8b9ba-d06c-44e1-9511-7d9774818e03",
   "metadata": {},
   "source": [
    "#### <span style=\"color:blue\">MOR:</span>\n",
    "As atualizações não resultam na reescrita imediata de arquivos de dados inteiros. Em vez disso, as alterações são rastreadas em arquivos de exclusão separados.\n",
    "\n",
    "**Exclusão de um registro:** O registro é listado em um arquivo de exclusão. Quando o leitor lê a tabela, ele mescla os dados com o arquivo de exclusão para decidir qual registro ignorar.\n",
    "\n",
    "**Atualização de um registro:** O registro modificado também é rastreado em um arquivo de exclusão, e o mecanismo cria um novo arquivo de dados contendo o registro com o valor atualizado. Ao ler a tabela, o mecanismo ignora a versão antiga do registro por causa do arquivo de exclusão e usa a nova versão no novo arquivo de dados.\n",
    "\n",
    "**Vantagens:** Gravação mais rápida em comparação com COW, pois não há necessidade de reescrever arquivos de dados inteiros.\n",
    "\n",
    "**Desvantagens:** Leitura mais lenta em comparação com COW, pois os arquivos de exclusão precisam ser reconciliados durante a leitura.\n",
    "\n",
    "#### Cenários de uso ideais:\n",
    "\n",
    "**Tabelas com muitas atualizações:** Se a tabela for atualizada com frequência, MOR pode ser uma boa escolha, pois pode acelerar as gravações.\n",
    "\n",
    "**Priorizando gravações rápidas:** Se o desempenho de gravação for crítico e as leituras puderem ser um pouco mais lentas, MOR pode ser uma boa opção.\n",
    "\n",
    "**Compactação:** A compactação regular é essencial ao usar MOR para minimizar o custo de leitura de dados\n"
   ]
  },
  {
   "cell_type": "markdown",
   "id": "a25eedf4-909c-42d9-be49-a3f665d97666",
   "metadata": {},
   "source": [
    "#### <span style=\"color:blue\">Como habilitar o MOR:</span>\n",
    "\n",
    "**Propriedades:**\n",
    "- ```write.delete.mode```: Abordagem usada para transações de exclusão.\n",
    "- ```write.update.mode```: Abordagem usada para transações de atualização.\n",
    "- ```write.merge.mode```:  Abordagem usada para transações de mesclagem.\n",
    "---\n",
    "> ⚠️ O correto funcionamento vai depender da compatibilidade da  mecanismo de computação, neste caso estamos usando o SPARK.\n",
    "---\n",
    "\n",
    "**Tabela já existente:**\n",
    "\n",
    "```sql\n",
    "ALTER TABLE catalog.db.nome_da_tabela SET TBLPROPERTIES (\n",
    "'write.delete.mode'='merge-on-read',\n",
    "'write.update.mode'='merge-on-read',\n",
    "'write.merge.mode'='merge-on-read'\n",
    ")\n",
    "```\n",
    "\n",
    "**Nova tabela:**\n",
    "\n",
    "```sql\n",
    "CREATE TABLE catalog.db.nome_da_tabela (\n",
    "    id int,\n",
    "    first_name string,\n",
    "    last_name string\n",
    ") TBLPROPERTIES (\n",
    "    'write.delete.mode'='copy-on-write',\n",
    "    'write.update.mode'='merge-on-read',\n",
    "    'write.merge.mode'='merge-on-read'\n",
    ") USING iceberg\n",
    "```"
   ]
  },
  {
   "cell_type": "code",
   "execution_count": 6,
   "id": "6216a8aa-09e9-40b6-a7de-9de2849cd855",
   "metadata": {},
   "outputs": [
    {
     "data": {
      "text/plain": [
       "DataFrame[]"
      ]
     },
     "execution_count": 6,
     "metadata": {},
     "output_type": "execute_result"
    }
   ],
   "source": [
    "# spark.sql(\"SHOW CATALOG\").show()\n",
    "#Remover configurações\n",
    "##ALTER TABLE prod.db.sample UNSET TBLPROPERTIES ('read.split.target-size');\n",
    "spark.sql(\"\"\"\n",
    "ALTER TABLE iceberg.bronze.vendas SET TBLPROPERTIES (\n",
    "'write.delete.mode'='copy-on-write',\n",
    "'write.update.mode'='merge-on-read',\n",
    "'write.merge.mode'='merge-on-read'\n",
    ")\"\"\")"
   ]
  },
  {
   "cell_type": "code",
   "execution_count": 7,
   "id": "9a4d5d45-fae3-469e-b448-9deb141b2ba4",
   "metadata": {},
   "outputs": [
    {
     "name": "stdout",
     "output_type": "stream",
     "text": [
      "current-snapshot-id=143286272759386465\n",
      "format=iceberg/parquet\n",
      "format-version=2\n",
      "write.delete.mode=copy-on-write\n",
      "write.merge.mode=merge-on-read\n",
      "write.parquet.compression-codec=zstd\n",
      "write.update.mode=merge-on-read\n"
     ]
    }
   ],
   "source": [
    "extended_info = spark.sql(\"DESCRIBE EXTENDED iceberg.bronze.vendas\")\n",
    "\n",
    "table_properties = extended_info.filter(extended_info[\"col_name\"] == \"Table Properties\").take(1)[0][1]\n",
    "\n",
    "properties = table_properties.strip('[]').split(',')\n",
    "\n",
    "for item in properties:\n",
    "    print(f\"{item}\")"
   ]
  },
  {
   "cell_type": "code",
   "execution_count": 8,
   "id": "7a71d058-1cdb-45af-bb21-65e9a8cea21d",
   "metadata": {},
   "outputs": [],
   "source": [
    "spark.stop()"
   ]
  }
 ],
 "metadata": {
  "kernelspec": {
   "display_name": "Python 3 (ipykernel)",
   "language": "python",
   "name": "python3"
  },
  "language_info": {
   "codemirror_mode": {
    "name": "ipython",
    "version": 3
   },
   "file_extension": ".py",
   "mimetype": "text/x-python",
   "name": "python",
   "nbconvert_exporter": "python",
   "pygments_lexer": "ipython3",
   "version": "3.8.10"
  }
 },
 "nbformat": 4,
 "nbformat_minor": 5
}
