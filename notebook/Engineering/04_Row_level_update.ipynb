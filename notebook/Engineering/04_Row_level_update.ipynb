{
 "cells": [
  {
   "cell_type": "code",
   "execution_count": 2,
   "id": "b0a60e4b-1c8e-4d2e-a5e9-b05c4116d964",
   "metadata": {},
   "outputs": [],
   "source": [
    "from pyspark.sql import SparkSession\n",
    "spark = SparkSession.builder \\\n",
    "    .appName('dataincode') \\\n",
    "    .config(\"spark.jars\", \"/opt/spark/jars/iceberg-spark-runtime-3.5_2.12-1.6.0.jar\") \\\n",
    "    .config(\"spark.sql.extensions\", \"org.apache.iceberg.spark.extensions.IcebergSparkSessionExtensions\") \\\n",
    "    .config(\"spark.sql.catalog.local\", \"org.apache.iceberg.spark.SparkCatalog\") \\\n",
    "    .config(\"spark.sql.catalog.spark_catalog.type\", \"hive\") \\\n",
    "    .config(\"spark.sql.catalog.local.warehouse\", \"s3a://datalake/iceberg\") \\\n",
    "    .getOrCreate()\n",
    "\n",
    "#Ajuste de log WARN log para ERROR\n",
    "spark.sparkContext.setLogLevel(\"ERROR\")"
   ]
  },
  {
   "cell_type": "markdown",
   "id": "307bed80-785c-4593-a2fe-9d4414a1e119",
   "metadata": {},
   "source": [
    "### Atualizações em Nível de Linha no Apache Iceberg\n",
    "\n",
    "O Apache Iceberg gerencia atualizações em nível de linha por meio de dois modos principais: **copy-on-write (COW)** e **merge-on-read (MOR)**.\n",
    "\n",
    "**Copy-on-Write (COW):** COW é o modo padrão no Iceberg. Quando registros na tabela são alterados (atualizados ou excluídos), os arquivos de dados associados a esses registros são reescritos com as alterações aplicadas. Este modo oferece as leituras mais rápidas, mas tem as atualizações e exclusões mais lentas.\n",
    "\n",
    "**Merge-on-Read (MOR):** No MOR, as atualizações e exclusões não resultam na reescrita imediata de arquivos de dados. Em vez disso, \"arquivos deletados\" são criados para registrar as alterações. Esses arquivos deletados são então usados durante as operações de leitura para filtrar ou atualizar os dados afetados. O MOR geralmente oferece leituras e gravações rápidas. No entanto, o uso regular de compactação é recomendado para minimizar os custos de leitura, pois vários arquivos de exclusão podem se acumular ao longo do tempo, levando a operações de leitura mais complexas.\n",
    "\n",
    "**Tipos de arquivo de exclusão:** Existem dois tipos de arquivos de exclusão: arquivos de exclusão posicional e arquivos de exclusão de igualdade. A escolha do tipo de arquivo de exclusão afeta o desempenho de leitura e gravação.\n",
    "\n",
    "**Caso de Uso :** Se as leituras forem mais frequentes que as gravações, o COW pode ser mais adequado. Se as gravações forem frequentes, o MOR pode ser preferível.\n",
    "\n",
    "**Fontes:**\n",
    "\n",
    "https://iceberg.apache.org/docs/1.5.2/configuration/#write-properties<br>\n",
    "Apache Iceberg: The Definitive Guide<br>\n",
    "https://aws.amazon.com/pt/blogs/big-data/use-apache-iceberg-in-a-data-lake-to-support-incremental-data-processing/?ref=guptaakashdeep.com\n"
   ]
  },
  {
   "cell_type": "markdown",
   "id": "1bde85af-9909-4fee-a765-96c7c289672d",
   "metadata": {},
   "source": [
    "####  <span style=\"color:blue\">COW:</span>\n",
    "Sempre que uma linha em um arquivo de dados é atualizada ou excluída, todo o arquivo de dados é reescrito com as alterações aplicadas. Isso significa que mesmo se apenas uma única linha for alterada, um novo arquivo de dados será criado, e o antigo será substituído\n",
    "\n",
    "**Vantagens:** Leitura rápida, pois o leitor só precisa ler os dados sem mesclá-los com arquivos excluídos ou atualizados.\n",
    "\n",
    "**Desvantagens:** Gravação lenta, pois a reescrita de arquivos de dados inteiros pode ser um processo demorado, especialmente se houver atualizações frequentes.\n",
    "\n",
    "#### Cenários de uso ideais para COW:\n",
    "**Priorizando leituras rápidas:** Se o desempenho de leitura for crítico e as gravações puderem ser um pouco mais lentas, COW é uma boa opção. Em resumo mais ```INSERT``` menos ```UPDATE, DELETE```\n"
   ]
  },
  {
   "cell_type": "markdown",
   "id": "0de8b9ba-d06c-44e1-9511-7d9774818e03",
   "metadata": {},
   "source": [
    "#### <span style=\"color:blue\">MOR:</span>\n",
    "As atualizações não resultam na reescrita imediata de arquivos de dados inteiros. Em vez disso, as alterações são rastreadas em arquivos de exclusão separados.\n",
    "\n",
    "**Exclusão de um registro:** O registro é listado em um arquivo de exclusão. Quando o leitor lê a tabela, ele mescla os dados com o arquivo de exclusão para decidir qual registro ignorar.\n",
    "\n",
    "**Atualização de um registro:** O registro modificado também é rastreado em um arquivo de exclusão, e o mecanismo cria um novo arquivo de dados contendo o registro com o valor atualizado. Ao ler a tabela, o mecanismo ignora a versão antiga do registro por causa do arquivo de exclusão e usa a nova versão no novo arquivo de dados.\n",
    "\n",
    "**Vantagens:** Gravação mais rápida em comparação com COW, pois não há necessidade de reescrever arquivos de dados inteiros.\n",
    "\n",
    "**Desvantagens:** Leitura mais lenta em comparação com COW, pois os arquivos de exclusão precisam ser reconciliados durante a leitura.\n",
    "\n",
    "#### Cenários de uso ideais:\n",
    "\n",
    "**Tabelas com muitas atualizações:** Se a tabela for atualizada com frequência, MOR pode ser uma boa escolha, pois pode acelerar as gravações.\n",
    "\n",
    "**Priorizando gravações rápidas:** Se o desempenho de gravação for crítico e as leituras puderem ser um pouco mais lentas, MOR pode ser uma boa opção.\n",
    "\n",
    "**Compactação:** A compactação regular é essencial ao usar MOR para minimizar o custo de leitura de dados\n"
   ]
  },
  {
   "cell_type": "markdown",
   "id": "a25eedf4-909c-42d9-be49-a3f665d97666",
   "metadata": {},
   "source": [
    "#### <span style=\"color:blue\">Como habilitar o MOR:</span>\n",
    "\n",
    "**Propriedades:**\n",
    "- ```write.delete.mode```: Abordagem usada para transações de exclusão.\n",
    "- ```write.update.mode```: Abordagem usada para transações de atualização.\n",
    "- ```write.merge.mode```:  Abordagem usada para transações de mesclagem.\n",
    "---\n",
    "> ⚠️ O correto funcionamento vai depender da compatibilidade do mecanismo de computação, neste caso estamos usando o SPARK.\n",
    "---\n",
    "\n",
    "**Tabela já existente:**\n",
    "\n",
    "```sql\n",
    "ALTER TABLE catalog.db.nome_da_tabela SET TBLPROPERTIES (\n",
    "'write.delete.mode'='merge-on-read',\n",
    "'write.update.mode'='merge-on-read',\n",
    "'write.merge.mode'='merge-on-read'\n",
    ")\n",
    "```\n",
    "\n",
    "**Nova tabela:**\n",
    "\n",
    "```sql\n",
    "CREATE TABLE catalog.db.nome_da_tabela (\n",
    "    id int,\n",
    "    first_name string,\n",
    "    last_name string\n",
    ") TBLPROPERTIES (\n",
    "    'write.delete.mode'='copy-on-write',\n",
    "    'write.update.mode'='merge-on-read',\n",
    "    'write.merge.mode'='merge-on-read'\n",
    ") USING iceberg\n",
    "```"
   ]
  },
  {
   "cell_type": "markdown",
   "id": "09a05556-083b-4ce1-a05f-c6e75678f197",
   "metadata": {},
   "source": [
    "### CRIAR A TABELA VENDAS"
   ]
  },
  {
   "cell_type": "code",
   "execution_count": 3,
   "id": "4e709736-46e9-4157-b4b4-d4edf8d554ae",
   "metadata": {},
   "outputs": [],
   "source": [
    "# Importar funções \n",
    "from IPython.display import display, HTML"
   ]
  },
  {
   "cell_type": "code",
   "execution_count": 4,
   "id": "8e00f188-f3c2-4ef2-9a4b-13d540ccfece",
   "metadata": {},
   "outputs": [
    {
     "data": {
      "text/html": [
       "\n",
       "<style>\n",
       "    .code-box {\n",
       "        background-color: #f8f9fa !important; \n",
       "        border: 1px solid #ced4da !important;\n",
       "        border-radius: 5px !important;\n",
       "        padding: 10px !important;\n",
       "        font-family: Consolas, Monaco, \"Andale Mono\", \"Ubuntu Mono\", monospace !important;\n",
       "        color: #28a745 !important;\n",
       "        overflow-x: auto;    }\n",
       "\n",
       "    /* Estilo adicional para o código dentro da caixa */\n",
       "    .code-box code {\n",
       "        background: transparent !important;     /* Remove fundo do código */\n",
       "        color: #28a745 !important;              /* Cor do texto verde */\n",
       "    }\n",
       "</style>\n",
       "<pre class=\"code-box\"><code>\n",
       "# Função para criar novos DFs disponivel, Para acessar a Docstring\n",
       "create_dataframe?   \n",
       "\n",
       "# Ou\n",
       "help(create_dataframe)\n",
       "</code></pre>\n"
      ],
      "text/plain": [
       "<IPython.core.display.HTML object>"
      ]
     },
     "metadata": {},
     "output_type": "display_data"
    }
   ],
   "source": [
    "%run ./Includes/Utils.ipynb"
   ]
  },
  {
   "cell_type": "code",
   "execution_count": 5,
   "id": "465b0357-dceb-43ef-85ca-43b60b73499e",
   "metadata": {},
   "outputs": [
    {
     "data": {
      "text/html": [
       "\n",
       "    Recursos disponiveis: Um schema, 4 amostras de dados compativeis com schema. <br>\n",
       "    Você pode acessa-las pelo index da array <b><i>lista_amostras</i></b> ou indivialmente pelos seus respectivos nomes\n",
       "        <li><span style=\"color:red; font-weight:bold\">columns_schema</span></li>\n",
       "        <li><span style=\"color:green; font-weight:bold\">init_data</span></li>\n",
       "        <li><span style=\"color:green; font-weight:bold\">feb_data</span></li>\n",
       "        <li><span style=\"color:green; font-weight:bold\">mar_data</span></li>\n",
       "        <li><span style=\"color:green; font-weight:bold\">apr_data</span></li>\n"
      ],
      "text/plain": [
       "<IPython.core.display.HTML object>"
      ]
     },
     "metadata": {},
     "output_type": "display_data"
    }
   ],
   "source": [
    "%run ./Includes/Datasets.ipynb"
   ]
  },
  {
   "cell_type": "markdown",
   "id": "8c2f8274-76be-45dc-b825-f732f92c93ad",
   "metadata": {},
   "source": [
    "##### CRIAR TABELA NO MODO PADRÃO - COW"
   ]
  },
  {
   "cell_type": "code",
   "execution_count": 6,
   "id": "dd98f9b8-da7f-439b-b1b3-c2d6786db7d6",
   "metadata": {},
   "outputs": [],
   "source": [
    "# Criar DF\n",
    "init_data_df = create_dataframe(columns_schema, init_data)"
   ]
  },
  {
   "cell_type": "code",
   "execution_count": 7,
   "id": "10e34190-9134-4aaa-9781-a851e30dbf23",
   "metadata": {},
   "outputs": [
    {
     "name": "stderr",
     "output_type": "stream",
     "text": [
      "SLF4J: Failed to load class \"org.slf4j.impl.StaticLoggerBinder\".    (0 + 8) / 8]\n",
      "SLF4J: Defaulting to no-operation (NOP) logger implementation\n",
      "SLF4J: See http://www.slf4j.org/codes.html#StaticLoggerBinder for further details.\n",
      "                                                                                \r"
     ]
    }
   ],
   "source": [
    "## Escrever tabela no storage\n",
    "(\n",
    "    init_data_df\n",
    "    .writeTo(\"iceberg.bronze.vendas\")    \n",
    "    .createOrReplace()\n",
    ")"
   ]
  },
  {
   "cell_type": "code",
   "execution_count": null,
   "id": "d833c81a-9284-498e-806b-85442324a44c",
   "metadata": {},
   "outputs": [],
   "source": [
    "## Inserir novos dados\n",
    "\n",
    "# feb_data_df = create_dataframe(columns_schema, feb_data)\n",
    "\n",
    "# feb_data_df.writeTo(\"iceberg.bronze.vendas_cow\").append()"
   ]
  },
  {
   "cell_type": "code",
   "execution_count": 8,
   "id": "e0a12b90-c13d-422a-b9a0-5dda144a862b",
   "metadata": {},
   "outputs": [
    {
     "name": "stdout",
     "output_type": "stream",
     "text": [
      "current-snapshot-id=6641450198374604857\n",
      "format=iceberg/parquet\n",
      "format-version=2\n",
      "write.parquet.compression-codec=zstd\n"
     ]
    }
   ],
   "source": [
    "## Listar configurações do modo padrão de\n",
    "extended_info = spark.sql(\"DESCRIBE EXTENDED iceberg.bronze.vendas\")\n",
    "\n",
    "table_properties = extended_info.filter(extended_info[\"col_name\"] == \"Table Properties\").take(1)[0][1]\n",
    "\n",
    "properties = table_properties.strip('[]').split(',')\n",
    "\n",
    "for item in properties:\n",
    "    print(f\"{item}\")"
   ]
  },
  {
   "cell_type": "code",
   "execution_count": 15,
   "id": "79ec5a88-3565-491e-bc11-c72edb32fd1d",
   "metadata": {},
   "outputs": [
    {
     "data": {
      "text/html": [
       "<div>\n",
       "<style scoped>\n",
       "    .dataframe tbody tr th:only-of-type {\n",
       "        vertical-align: middle;\n",
       "    }\n",
       "\n",
       "    .dataframe tbody tr th {\n",
       "        vertical-align: top;\n",
       "    }\n",
       "\n",
       "    .dataframe thead th {\n",
       "        text-align: right;\n",
       "    }\n",
       "</style>\n",
       "<table border=\"1\" class=\"dataframe\">\n",
       "  <thead>\n",
       "    <tr style=\"text-align: right;\">\n",
       "      <th></th>\n",
       "      <th>content</th>\n",
       "      <th>file_path</th>\n",
       "      <th>file_format</th>\n",
       "      <th>spec_id</th>\n",
       "      <th>record_count</th>\n",
       "      <th>file_size_in_bytes</th>\n",
       "      <th>column_sizes</th>\n",
       "      <th>value_counts</th>\n",
       "      <th>null_value_counts</th>\n",
       "      <th>nan_value_counts</th>\n",
       "      <th>lower_bounds</th>\n",
       "      <th>upper_bounds</th>\n",
       "      <th>key_metadata</th>\n",
       "      <th>split_offsets</th>\n",
       "      <th>equality_ids</th>\n",
       "      <th>sort_order_id</th>\n",
       "      <th>readable_metrics</th>\n",
       "    </tr>\n",
       "  </thead>\n",
       "  <tbody>\n",
       "    <tr>\n",
       "      <th>0</th>\n",
       "      <td>0</td>\n",
       "      <td>s3a://datalake/iceberg/bronze/vendas/data/0000...</td>\n",
       "      <td>PARQUET</td>\n",
       "      <td>0</td>\n",
       "      <td>1</td>\n",
       "      <td>2343</td>\n",
       "      <td>{1: 47, 2: 52, 3: 43, 4: 48, 5: 52, 6: 50, 7: ...</td>\n",
       "      <td>{1: 1, 2: 1, 3: 1, 4: 1, 5: 1, 6: 1, 7: 1, 8: 1}</td>\n",
       "      <td>{1: 0, 2: 0, 3: 0, 4: 0, 5: 0, 6: 0, 7: 0, 8: 0}</td>\n",
       "      <td>{}</td>\n",
       "      <td>{1: [49, 48, 49, 54, 56], 2: [50, 48, 50, 52, ...</td>\n",
       "      <td>{1: [49, 48, 49, 54, 56], 2: [50, 48, 50, 52, ...</td>\n",
       "      <td>None</td>\n",
       "      <td>[4]</td>\n",
       "      <td>None</td>\n",
       "      <td>0</td>\n",
       "      <td>((48, 1, 0, None, France, France), (52, 1, 0, ...</td>\n",
       "    </tr>\n",
       "    <tr>\n",
       "      <th>1</th>\n",
       "      <td>0</td>\n",
       "      <td>s3a://datalake/iceberg/bronze/vendas/data/0000...</td>\n",
       "      <td>PARQUET</td>\n",
       "      <td>0</td>\n",
       "      <td>1</td>\n",
       "      <td>2343</td>\n",
       "      <td>{1: 47, 2: 52, 3: 43, 4: 48, 5: 52, 6: 50, 7: ...</td>\n",
       "      <td>{1: 1, 2: 1, 3: 1, 4: 1, 5: 1, 6: 1, 7: 1, 8: 1}</td>\n",
       "      <td>{1: 0, 2: 0, 3: 0, 4: 0, 5: 0, 6: 0, 7: 0, 8: 0}</td>\n",
       "      <td>{}</td>\n",
       "      <td>{1: [49, 48, 49, 56, 48], 2: [50, 48, 50, 52, ...</td>\n",
       "      <td>{1: [49, 48, 49, 56, 48], 2: [50, 48, 50, 52, ...</td>\n",
       "      <td>None</td>\n",
       "      <td>[4]</td>\n",
       "      <td>None</td>\n",
       "      <td>0</td>\n",
       "      <td>((48, 1, 0, None, Norway, Norway), (52, 1, 0, ...</td>\n",
       "    </tr>\n",
       "    <tr>\n",
       "      <th>2</th>\n",
       "      <td>0</td>\n",
       "      <td>s3a://datalake/iceberg/bronze/vendas/data/0000...</td>\n",
       "      <td>PARQUET</td>\n",
       "      <td>0</td>\n",
       "      <td>1</td>\n",
       "      <td>2364</td>\n",
       "      <td>{1: 47, 2: 52, 3: 44, 4: 48, 5: 51, 6: 50, 7: ...</td>\n",
       "      <td>{1: 1, 2: 1, 3: 1, 4: 1, 5: 1, 6: 1, 7: 1, 8: 1}</td>\n",
       "      <td>{1: 0, 2: 0, 3: 0, 4: 0, 5: 0, 6: 0, 7: 0, 8: 0}</td>\n",
       "      <td>{}</td>\n",
       "      <td>{1: [49, 48, 49, 56, 56], 2: [50, 48, 50, 52, ...</td>\n",
       "      <td>{1: [49, 48, 49, 56, 56], 2: [50, 48, 50, 52, ...</td>\n",
       "      <td>None</td>\n",
       "      <td>[4]</td>\n",
       "      <td>None</td>\n",
       "      <td>0</td>\n",
       "      <td>((51, 1, 0, None, Australia, Australia), (52, ...</td>\n",
       "    </tr>\n",
       "    <tr>\n",
       "      <th>3</th>\n",
       "      <td>0</td>\n",
       "      <td>s3a://datalake/iceberg/bronze/vendas/data/0000...</td>\n",
       "      <td>PARQUET</td>\n",
       "      <td>0</td>\n",
       "      <td>1</td>\n",
       "      <td>2327</td>\n",
       "      <td>{1: 47, 2: 52, 3: 42, 4: 47, 5: 49, 6: 50, 7: ...</td>\n",
       "      <td>{1: 1, 2: 1, 3: 1, 4: 1, 5: 1, 6: 1, 7: 1, 8: 1}</td>\n",
       "      <td>{1: 0, 2: 0, 3: 0, 4: 0, 5: 0, 6: 0, 7: 0, 8: 0}</td>\n",
       "      <td>{}</td>\n",
       "      <td>{1: [49, 48, 50, 48, 49], 2: [50, 48, 50, 52, ...</td>\n",
       "      <td>{1: [49, 48, 50, 48, 49], 2: [50, 48, 50, 52, ...</td>\n",
       "      <td>None</td>\n",
       "      <td>[4]</td>\n",
       "      <td>None</td>\n",
       "      <td>0</td>\n",
       "      <td>((49, 1, 0, None, Finland, Finland), (52, 1, 0...</td>\n",
       "    </tr>\n",
       "  </tbody>\n",
       "</table>\n",
       "</div>"
      ],
      "text/plain": [
       "   content                                          file_path file_format  \\\n",
       "0        0  s3a://datalake/iceberg/bronze/vendas/data/0000...     PARQUET   \n",
       "1        0  s3a://datalake/iceberg/bronze/vendas/data/0000...     PARQUET   \n",
       "2        0  s3a://datalake/iceberg/bronze/vendas/data/0000...     PARQUET   \n",
       "3        0  s3a://datalake/iceberg/bronze/vendas/data/0000...     PARQUET   \n",
       "\n",
       "   spec_id  record_count  file_size_in_bytes  \\\n",
       "0        0             1                2343   \n",
       "1        0             1                2343   \n",
       "2        0             1                2364   \n",
       "3        0             1                2327   \n",
       "\n",
       "                                        column_sizes  \\\n",
       "0  {1: 47, 2: 52, 3: 43, 4: 48, 5: 52, 6: 50, 7: ...   \n",
       "1  {1: 47, 2: 52, 3: 43, 4: 48, 5: 52, 6: 50, 7: ...   \n",
       "2  {1: 47, 2: 52, 3: 44, 4: 48, 5: 51, 6: 50, 7: ...   \n",
       "3  {1: 47, 2: 52, 3: 42, 4: 47, 5: 49, 6: 50, 7: ...   \n",
       "\n",
       "                                       value_counts  \\\n",
       "0  {1: 1, 2: 1, 3: 1, 4: 1, 5: 1, 6: 1, 7: 1, 8: 1}   \n",
       "1  {1: 1, 2: 1, 3: 1, 4: 1, 5: 1, 6: 1, 7: 1, 8: 1}   \n",
       "2  {1: 1, 2: 1, 3: 1, 4: 1, 5: 1, 6: 1, 7: 1, 8: 1}   \n",
       "3  {1: 1, 2: 1, 3: 1, 4: 1, 5: 1, 6: 1, 7: 1, 8: 1}   \n",
       "\n",
       "                                  null_value_counts nan_value_counts  \\\n",
       "0  {1: 0, 2: 0, 3: 0, 4: 0, 5: 0, 6: 0, 7: 0, 8: 0}               {}   \n",
       "1  {1: 0, 2: 0, 3: 0, 4: 0, 5: 0, 6: 0, 7: 0, 8: 0}               {}   \n",
       "2  {1: 0, 2: 0, 3: 0, 4: 0, 5: 0, 6: 0, 7: 0, 8: 0}               {}   \n",
       "3  {1: 0, 2: 0, 3: 0, 4: 0, 5: 0, 6: 0, 7: 0, 8: 0}               {}   \n",
       "\n",
       "                                        lower_bounds  \\\n",
       "0  {1: [49, 48, 49, 54, 56], 2: [50, 48, 50, 52, ...   \n",
       "1  {1: [49, 48, 49, 56, 48], 2: [50, 48, 50, 52, ...   \n",
       "2  {1: [49, 48, 49, 56, 56], 2: [50, 48, 50, 52, ...   \n",
       "3  {1: [49, 48, 50, 48, 49], 2: [50, 48, 50, 52, ...   \n",
       "\n",
       "                                        upper_bounds key_metadata  \\\n",
       "0  {1: [49, 48, 49, 54, 56], 2: [50, 48, 50, 52, ...         None   \n",
       "1  {1: [49, 48, 49, 56, 48], 2: [50, 48, 50, 52, ...         None   \n",
       "2  {1: [49, 48, 49, 56, 56], 2: [50, 48, 50, 52, ...         None   \n",
       "3  {1: [49, 48, 50, 48, 49], 2: [50, 48, 50, 52, ...         None   \n",
       "\n",
       "  split_offsets equality_ids  sort_order_id  \\\n",
       "0           [4]         None              0   \n",
       "1           [4]         None              0   \n",
       "2           [4]         None              0   \n",
       "3           [4]         None              0   \n",
       "\n",
       "                                    readable_metrics  \n",
       "0  ((48, 1, 0, None, France, France), (52, 1, 0, ...  \n",
       "1  ((48, 1, 0, None, Norway, Norway), (52, 1, 0, ...  \n",
       "2  ((51, 1, 0, None, Australia, Australia), (52, ...  \n",
       "3  ((49, 1, 0, None, Finland, Finland), (52, 1, 0...  "
      ]
     },
     "execution_count": 15,
     "metadata": {},
     "output_type": "execute_result"
    }
   ],
   "source": [
    "## Listar arquivos de dados\n",
    "spark.sql(\"SELECT * FROM iceberg.bronze.vendas.files;\").toPandas()"
   ]
  },
  {
   "cell_type": "code",
   "execution_count": 16,
   "id": "85547ef7-3d1c-45fe-aa2c-0b61e7d88e6f",
   "metadata": {},
   "outputs": [
    {
     "data": {
      "text/html": [
       "<div>\n",
       "<style scoped>\n",
       "    .dataframe tbody tr th:only-of-type {\n",
       "        vertical-align: middle;\n",
       "    }\n",
       "\n",
       "    .dataframe tbody tr th {\n",
       "        vertical-align: top;\n",
       "    }\n",
       "\n",
       "    .dataframe thead th {\n",
       "        text-align: right;\n",
       "    }\n",
       "</style>\n",
       "<table border=\"1\" class=\"dataframe\">\n",
       "  <thead>\n",
       "    <tr style=\"text-align: right;\">\n",
       "      <th></th>\n",
       "      <th>content</th>\n",
       "      <th>path</th>\n",
       "      <th>length</th>\n",
       "      <th>partition_spec_id</th>\n",
       "      <th>added_snapshot_id</th>\n",
       "      <th>added_data_files_count</th>\n",
       "      <th>existing_data_files_count</th>\n",
       "      <th>deleted_data_files_count</th>\n",
       "      <th>added_delete_files_count</th>\n",
       "      <th>existing_delete_files_count</th>\n",
       "      <th>deleted_delete_files_count</th>\n",
       "      <th>partition_summaries</th>\n",
       "    </tr>\n",
       "  </thead>\n",
       "  <tbody>\n",
       "    <tr>\n",
       "      <th>0</th>\n",
       "      <td>0</td>\n",
       "      <td>s3a://datalake/iceberg/bronze/vendas/metadata/...</td>\n",
       "      <td>7142</td>\n",
       "      <td>0</td>\n",
       "      <td>9139426830403085932</td>\n",
       "      <td>1</td>\n",
       "      <td>0</td>\n",
       "      <td>0</td>\n",
       "      <td>0</td>\n",
       "      <td>0</td>\n",
       "      <td>0</td>\n",
       "      <td>[]</td>\n",
       "    </tr>\n",
       "    <tr>\n",
       "      <th>1</th>\n",
       "      <td>0</td>\n",
       "      <td>s3a://datalake/iceberg/bronze/vendas/metadata/...</td>\n",
       "      <td>7333</td>\n",
       "      <td>0</td>\n",
       "      <td>9139426830403085932</td>\n",
       "      <td>0</td>\n",
       "      <td>3</td>\n",
       "      <td>1</td>\n",
       "      <td>0</td>\n",
       "      <td>0</td>\n",
       "      <td>0</td>\n",
       "      <td>[]</td>\n",
       "    </tr>\n",
       "  </tbody>\n",
       "</table>\n",
       "</div>"
      ],
      "text/plain": [
       "   content                                               path  length  \\\n",
       "0        0  s3a://datalake/iceberg/bronze/vendas/metadata/...    7142   \n",
       "1        0  s3a://datalake/iceberg/bronze/vendas/metadata/...    7333   \n",
       "\n",
       "   partition_spec_id    added_snapshot_id  added_data_files_count  \\\n",
       "0                  0  9139426830403085932                       1   \n",
       "1                  0  9139426830403085932                       0   \n",
       "\n",
       "   existing_data_files_count  deleted_data_files_count  \\\n",
       "0                          0                         0   \n",
       "1                          3                         1   \n",
       "\n",
       "   added_delete_files_count  existing_delete_files_count  \\\n",
       "0                         0                            0   \n",
       "1                         0                            0   \n",
       "\n",
       "   deleted_delete_files_count partition_summaries  \n",
       "0                           0                  []  \n",
       "1                           0                  []  "
      ]
     },
     "execution_count": 16,
     "metadata": {},
     "output_type": "execute_result"
    }
   ],
   "source": [
    "## Listar arquivos de metadados\n",
    "spark.sql(\"SELECT * FROM iceberg.bronze.vendas.manifests;\").toPandas()"
   ]
  },
  {
   "cell_type": "code",
   "execution_count": 14,
   "id": "9a2979a9-035e-422e-a6fa-b37fe2701552",
   "metadata": {},
   "outputs": [
    {
     "name": "stdout",
     "output_type": "stream",
     "text": [
      "+------------+----------+-----------+----------+----------+----------+---------------+---------+\n",
      "|order_number|order_date|qty_ordered|unit_price|    status|product_id|product_line_id|  country|\n",
      "+------------+----------+-----------+----------+----------+----------+---------------+---------+\n",
      "|       10180|2024-01-22|          1|    951.87|In Process|  S10_2016|           1002|   Norway|\n",
      "|       10168|2024-01-23|          5|    98.115|In Process|  S10_1949|           1002|   France|\n",
      "|       10188|2024-01-21|         65|    95.202| Cancelled|  S10_4698|           1002|Australia|\n",
      "|       10201|2024-01-26|          8|    951.17|   On Hold|  S10_4757|           1221|  Finland|\n",
      "+------------+----------+-----------+----------+----------+----------+---------------+---------+\n",
      "\n"
     ]
    }
   ],
   "source": [
    "## Exibir Registro\n",
    "spark.sql(\"select * from iceberg.bronze.vendas\").show()"
   ]
  },
  {
   "cell_type": "code",
   "execution_count": 13,
   "id": "d06b6708-7c2e-4af7-8db8-a3c3d724f8d5",
   "metadata": {},
   "outputs": [
    {
     "name": "stderr",
     "output_type": "stream",
     "text": [
      "                                                                                \r"
     ]
    },
    {
     "data": {
      "text/plain": [
       "DataFrame[]"
      ]
     },
     "execution_count": 13,
     "metadata": {},
     "output_type": "execute_result"
    }
   ],
   "source": [
    "## Atualizar registros\n",
    "spark.sql(\"\"\"\n",
    "UPDATE iceberg.bronze.vendas\n",
    "SET status = 'In Process'\n",
    "WHERE order_number = 10168\n",
    "\"\"\"\n",
    ")"
   ]
  },
  {
   "cell_type": "code",
   "execution_count": 23,
   "id": "f3e1a82c-9862-4fe4-8523-41b89e1e6017",
   "metadata": {},
   "outputs": [
    {
     "name": "stderr",
     "output_type": "stream",
     "text": [
      "                                                                                \r"
     ]
    },
    {
     "data": {
      "text/plain": [
       "DataFrame[]"
      ]
     },
     "execution_count": 23,
     "metadata": {},
     "output_type": "execute_result"
    }
   ],
   "source": [
    "### Para deletar por completo do catalog e storage\n",
    "# spark.sql(\"DROP TABLE iceberg.bronze.vendas PURGE\")"
   ]
  },
  {
   "cell_type": "markdown",
   "id": "617304ad-023d-42f1-8095-0314eb509e6c",
   "metadata": {},
   "source": [
    "##### CRIAR TABELA NO MODO MOR"
   ]
  },
  {
   "cell_type": "code",
   "execution_count": 24,
   "id": "25b61bcd-9529-4875-a938-db3c95dbddb7",
   "metadata": {},
   "outputs": [],
   "source": [
    "(\n",
    "    init_data_df\n",
    "    .writeTo(\"iceberg.bronze.vendas\")    \n",
    "    .createOrReplace()\n",
    ")"
   ]
  },
  {
   "cell_type": "code",
   "execution_count": 25,
   "id": "6216a8aa-09e9-40b6-a7de-9de2849cd855",
   "metadata": {},
   "outputs": [
    {
     "data": {
      "text/plain": [
       "DataFrame[]"
      ]
     },
     "execution_count": 25,
     "metadata": {},
     "output_type": "execute_result"
    }
   ],
   "source": [
    "## spark.sql(\"SHOW CATALOG\").show()\n",
    "## Alterar tabela no formato caw\n",
    "spark.sql(\"\"\"\n",
    "ALTER TABLE iceberg.bronze.vendas SET TBLPROPERTIES (\n",
    "'write.delete.mode'='copy-on-write',\n",
    "'write.update.mode'='merge-on-read',\n",
    "'write.merge.mode'='merge-on-read'\n",
    ")\"\"\")"
   ]
  },
  {
   "cell_type": "code",
   "execution_count": 31,
   "id": "5e955473-507d-4617-b108-7f1535040781",
   "metadata": {},
   "outputs": [
    {
     "name": "stdout",
     "output_type": "stream",
     "text": [
      "+------------+----------+-----------+----------+----------+----------+---------------+---------+\n",
      "|order_number|order_date|qty_ordered|unit_price|    status|product_id|product_line_id|  country|\n",
      "+------------+----------+-----------+----------+----------+----------+---------------+---------+\n",
      "|       10168|2024-01-23|          5|    98.115|In Process|  S10_1949|           1002|   France|\n",
      "|       10180|2024-01-22|          1|    951.87|In Process|  S10_2016|           1002|   Norway|\n",
      "|       10188|2024-01-21|         65|    95.202| Cancelled|  S10_4698|           1002|Australia|\n",
      "|       10201|2024-01-26|          8|    951.17|   On Hold|  S10_4757|           1221|  Finland|\n",
      "+------------+----------+-----------+----------+----------+----------+---------------+---------+\n",
      "\n"
     ]
    }
   ],
   "source": [
    "## Exibir Registro\n",
    "spark.sql(\"select * from iceberg.bronze.vendas\").show()"
   ]
  },
  {
   "cell_type": "code",
   "execution_count": 27,
   "id": "9a4d5d45-fae3-469e-b448-9deb141b2ba4",
   "metadata": {},
   "outputs": [
    {
     "name": "stdout",
     "output_type": "stream",
     "text": [
      "current-snapshot-id=780635310986335313\n",
      "format=iceberg/parquet\n",
      "format-version=2\n",
      "write.delete.mode=copy-on-write\n",
      "write.merge.mode=merge-on-read\n",
      "write.parquet.compression-codec=zstd\n",
      "write.update.mode=merge-on-read\n"
     ]
    }
   ],
   "source": [
    "extended_info = spark.sql(\"DESCRIBE EXTENDED iceberg.bronze.vendas\")\n",
    "\n",
    "table_properties = extended_info.filter(extended_info[\"col_name\"] == \"Table Properties\").take(1)[0][1]\n",
    "\n",
    "properties = table_properties.strip('[]').split(',')\n",
    "\n",
    "for item in properties:\n",
    "    print(f\"{item}\")"
   ]
  },
  {
   "cell_type": "code",
   "execution_count": 30,
   "id": "4eb46b35-c118-4b82-a8a3-92fa0211f193",
   "metadata": {},
   "outputs": [
    {
     "data": {
      "text/plain": [
       "DataFrame[]"
      ]
     },
     "execution_count": 30,
     "metadata": {},
     "output_type": "execute_result"
    }
   ],
   "source": [
    "spark.sql(\"\"\"\n",
    "UPDATE iceberg.bronze.vendas\n",
    "SET status = 'In Process'\n",
    "WHERE order_number = 10168\n",
    "\"\"\"\n",
    ")\n",
    "# Disputed"
   ]
  },
  {
   "cell_type": "code",
   "execution_count": 32,
   "id": "e5b7af10-1346-4701-8abc-89cdbd713f7a",
   "metadata": {},
   "outputs": [
    {
     "data": {
      "text/html": [
       "<div>\n",
       "<style scoped>\n",
       "    .dataframe tbody tr th:only-of-type {\n",
       "        vertical-align: middle;\n",
       "    }\n",
       "\n",
       "    .dataframe tbody tr th {\n",
       "        vertical-align: top;\n",
       "    }\n",
       "\n",
       "    .dataframe thead th {\n",
       "        text-align: right;\n",
       "    }\n",
       "</style>\n",
       "<table border=\"1\" class=\"dataframe\">\n",
       "  <thead>\n",
       "    <tr style=\"text-align: right;\">\n",
       "      <th></th>\n",
       "      <th>content</th>\n",
       "      <th>file_path</th>\n",
       "      <th>file_format</th>\n",
       "      <th>spec_id</th>\n",
       "      <th>record_count</th>\n",
       "      <th>file_size_in_bytes</th>\n",
       "      <th>column_sizes</th>\n",
       "      <th>value_counts</th>\n",
       "      <th>null_value_counts</th>\n",
       "      <th>nan_value_counts</th>\n",
       "      <th>lower_bounds</th>\n",
       "      <th>upper_bounds</th>\n",
       "      <th>key_metadata</th>\n",
       "      <th>split_offsets</th>\n",
       "      <th>equality_ids</th>\n",
       "      <th>sort_order_id</th>\n",
       "      <th>readable_metrics</th>\n",
       "    </tr>\n",
       "  </thead>\n",
       "  <tbody>\n",
       "    <tr>\n",
       "      <th>0</th>\n",
       "      <td>0</td>\n",
       "      <td>s3a://datalake/iceberg/bronze/vendas/data/0000...</td>\n",
       "      <td>PARQUET</td>\n",
       "      <td>0</td>\n",
       "      <td>1</td>\n",
       "      <td>2343</td>\n",
       "      <td>{1: 47, 2: 52, 3: 43, 4: 48, 5: 52, 6: 50, 7: ...</td>\n",
       "      <td>{1: 1, 2: 1, 3: 1, 4: 1, 5: 1, 6: 1, 7: 1, 8: 1}</td>\n",
       "      <td>{1: 0, 2: 0, 3: 0, 4: 0, 5: 0, 6: 0, 7: 0, 8: 0}</td>\n",
       "      <td>{}</td>\n",
       "      <td>{1: [49, 48, 49, 54, 56], 2: [50, 48, 50, 52, ...</td>\n",
       "      <td>{1: [49, 48, 49, 54, 56], 2: [50, 48, 50, 52, ...</td>\n",
       "      <td>None</td>\n",
       "      <td>[4]</td>\n",
       "      <td>None</td>\n",
       "      <td>0.0</td>\n",
       "      <td>((48, 1, 0, None, France, France), (52, 1, 0, ...</td>\n",
       "    </tr>\n",
       "    <tr>\n",
       "      <th>1</th>\n",
       "      <td>0</td>\n",
       "      <td>s3a://datalake/iceberg/bronze/vendas/data/0000...</td>\n",
       "      <td>PARQUET</td>\n",
       "      <td>0</td>\n",
       "      <td>1</td>\n",
       "      <td>2329</td>\n",
       "      <td>{1: 47, 2: 52, 3: 43, 4: 48, 5: 50, 6: 50, 7: ...</td>\n",
       "      <td>{1: 1, 2: 1, 3: 1, 4: 1, 5: 1, 6: 1, 7: 1, 8: 1}</td>\n",
       "      <td>{1: 0, 2: 0, 3: 0, 4: 0, 5: 0, 6: 0, 7: 0, 8: 0}</td>\n",
       "      <td>{}</td>\n",
       "      <td>{1: [49, 48, 49, 54, 56], 2: [50, 48, 50, 52, ...</td>\n",
       "      <td>{1: [49, 48, 49, 54, 56], 2: [50, 48, 50, 52, ...</td>\n",
       "      <td>None</td>\n",
       "      <td>[4]</td>\n",
       "      <td>None</td>\n",
       "      <td>0.0</td>\n",
       "      <td>((48, 1, 0, None, France, France), (52, 1, 0, ...</td>\n",
       "    </tr>\n",
       "    <tr>\n",
       "      <th>2</th>\n",
       "      <td>0</td>\n",
       "      <td>s3a://datalake/iceberg/bronze/vendas/data/0000...</td>\n",
       "      <td>PARQUET</td>\n",
       "      <td>0</td>\n",
       "      <td>1</td>\n",
       "      <td>2343</td>\n",
       "      <td>{1: 47, 2: 52, 3: 43, 4: 48, 5: 52, 6: 50, 7: ...</td>\n",
       "      <td>{1: 1, 2: 1, 3: 1, 4: 1, 5: 1, 6: 1, 7: 1, 8: 1}</td>\n",
       "      <td>{1: 0, 2: 0, 3: 0, 4: 0, 5: 0, 6: 0, 7: 0, 8: 0}</td>\n",
       "      <td>{}</td>\n",
       "      <td>{1: [49, 48, 49, 56, 48], 2: [50, 48, 50, 52, ...</td>\n",
       "      <td>{1: [49, 48, 49, 56, 48], 2: [50, 48, 50, 52, ...</td>\n",
       "      <td>None</td>\n",
       "      <td>[4]</td>\n",
       "      <td>None</td>\n",
       "      <td>0.0</td>\n",
       "      <td>((48, 1, 0, None, Norway, Norway), (52, 1, 0, ...</td>\n",
       "    </tr>\n",
       "    <tr>\n",
       "      <th>3</th>\n",
       "      <td>0</td>\n",
       "      <td>s3a://datalake/iceberg/bronze/vendas/data/0000...</td>\n",
       "      <td>PARQUET</td>\n",
       "      <td>0</td>\n",
       "      <td>1</td>\n",
       "      <td>2364</td>\n",
       "      <td>{1: 47, 2: 52, 3: 44, 4: 48, 5: 51, 6: 50, 7: ...</td>\n",
       "      <td>{1: 1, 2: 1, 3: 1, 4: 1, 5: 1, 6: 1, 7: 1, 8: 1}</td>\n",
       "      <td>{1: 0, 2: 0, 3: 0, 4: 0, 5: 0, 6: 0, 7: 0, 8: 0}</td>\n",
       "      <td>{}</td>\n",
       "      <td>{1: [49, 48, 49, 56, 56], 2: [50, 48, 50, 52, ...</td>\n",
       "      <td>{1: [49, 48, 49, 56, 56], 2: [50, 48, 50, 52, ...</td>\n",
       "      <td>None</td>\n",
       "      <td>[4]</td>\n",
       "      <td>None</td>\n",
       "      <td>0.0</td>\n",
       "      <td>((51, 1, 0, None, Australia, Australia), (52, ...</td>\n",
       "    </tr>\n",
       "    <tr>\n",
       "      <th>4</th>\n",
       "      <td>0</td>\n",
       "      <td>s3a://datalake/iceberg/bronze/vendas/data/0000...</td>\n",
       "      <td>PARQUET</td>\n",
       "      <td>0</td>\n",
       "      <td>1</td>\n",
       "      <td>2327</td>\n",
       "      <td>{1: 47, 2: 52, 3: 42, 4: 47, 5: 49, 6: 50, 7: ...</td>\n",
       "      <td>{1: 1, 2: 1, 3: 1, 4: 1, 5: 1, 6: 1, 7: 1, 8: 1}</td>\n",
       "      <td>{1: 0, 2: 0, 3: 0, 4: 0, 5: 0, 6: 0, 7: 0, 8: 0}</td>\n",
       "      <td>{}</td>\n",
       "      <td>{1: [49, 48, 50, 48, 49], 2: [50, 48, 50, 52, ...</td>\n",
       "      <td>{1: [49, 48, 50, 48, 49], 2: [50, 48, 50, 52, ...</td>\n",
       "      <td>None</td>\n",
       "      <td>[4]</td>\n",
       "      <td>None</td>\n",
       "      <td>0.0</td>\n",
       "      <td>((49, 1, 0, None, Finland, Finland), (52, 1, 0...</td>\n",
       "    </tr>\n",
       "    <tr>\n",
       "      <th>5</th>\n",
       "      <td>1</td>\n",
       "      <td>s3a://datalake/iceberg/bronze/vendas/data/0000...</td>\n",
       "      <td>PARQUET</td>\n",
       "      <td>0</td>\n",
       "      <td>1</td>\n",
       "      <td>1451</td>\n",
       "      <td>{2147483546: 134, 2147483545: 39}</td>\n",
       "      <td>None</td>\n",
       "      <td>None</td>\n",
       "      <td>None</td>\n",
       "      <td>{2147483546: [115, 51, 97, 58, 47, 47, 100, 97...</td>\n",
       "      <td>{2147483546: [115, 51, 97, 58, 47, 47, 100, 97...</td>\n",
       "      <td>None</td>\n",
       "      <td>[4]</td>\n",
       "      <td>None</td>\n",
       "      <td>NaN</td>\n",
       "      <td>((None, None, None, None, None, None), (None, ...</td>\n",
       "    </tr>\n",
       "  </tbody>\n",
       "</table>\n",
       "</div>"
      ],
      "text/plain": [
       "   content                                          file_path file_format  \\\n",
       "0        0  s3a://datalake/iceberg/bronze/vendas/data/0000...     PARQUET   \n",
       "1        0  s3a://datalake/iceberg/bronze/vendas/data/0000...     PARQUET   \n",
       "2        0  s3a://datalake/iceberg/bronze/vendas/data/0000...     PARQUET   \n",
       "3        0  s3a://datalake/iceberg/bronze/vendas/data/0000...     PARQUET   \n",
       "4        0  s3a://datalake/iceberg/bronze/vendas/data/0000...     PARQUET   \n",
       "5        1  s3a://datalake/iceberg/bronze/vendas/data/0000...     PARQUET   \n",
       "\n",
       "   spec_id  record_count  file_size_in_bytes  \\\n",
       "0        0             1                2343   \n",
       "1        0             1                2329   \n",
       "2        0             1                2343   \n",
       "3        0             1                2364   \n",
       "4        0             1                2327   \n",
       "5        0             1                1451   \n",
       "\n",
       "                                        column_sizes  \\\n",
       "0  {1: 47, 2: 52, 3: 43, 4: 48, 5: 52, 6: 50, 7: ...   \n",
       "1  {1: 47, 2: 52, 3: 43, 4: 48, 5: 50, 6: 50, 7: ...   \n",
       "2  {1: 47, 2: 52, 3: 43, 4: 48, 5: 52, 6: 50, 7: ...   \n",
       "3  {1: 47, 2: 52, 3: 44, 4: 48, 5: 51, 6: 50, 7: ...   \n",
       "4  {1: 47, 2: 52, 3: 42, 4: 47, 5: 49, 6: 50, 7: ...   \n",
       "5                  {2147483546: 134, 2147483545: 39}   \n",
       "\n",
       "                                       value_counts  \\\n",
       "0  {1: 1, 2: 1, 3: 1, 4: 1, 5: 1, 6: 1, 7: 1, 8: 1}   \n",
       "1  {1: 1, 2: 1, 3: 1, 4: 1, 5: 1, 6: 1, 7: 1, 8: 1}   \n",
       "2  {1: 1, 2: 1, 3: 1, 4: 1, 5: 1, 6: 1, 7: 1, 8: 1}   \n",
       "3  {1: 1, 2: 1, 3: 1, 4: 1, 5: 1, 6: 1, 7: 1, 8: 1}   \n",
       "4  {1: 1, 2: 1, 3: 1, 4: 1, 5: 1, 6: 1, 7: 1, 8: 1}   \n",
       "5                                              None   \n",
       "\n",
       "                                  null_value_counts nan_value_counts  \\\n",
       "0  {1: 0, 2: 0, 3: 0, 4: 0, 5: 0, 6: 0, 7: 0, 8: 0}               {}   \n",
       "1  {1: 0, 2: 0, 3: 0, 4: 0, 5: 0, 6: 0, 7: 0, 8: 0}               {}   \n",
       "2  {1: 0, 2: 0, 3: 0, 4: 0, 5: 0, 6: 0, 7: 0, 8: 0}               {}   \n",
       "3  {1: 0, 2: 0, 3: 0, 4: 0, 5: 0, 6: 0, 7: 0, 8: 0}               {}   \n",
       "4  {1: 0, 2: 0, 3: 0, 4: 0, 5: 0, 6: 0, 7: 0, 8: 0}               {}   \n",
       "5                                              None             None   \n",
       "\n",
       "                                        lower_bounds  \\\n",
       "0  {1: [49, 48, 49, 54, 56], 2: [50, 48, 50, 52, ...   \n",
       "1  {1: [49, 48, 49, 54, 56], 2: [50, 48, 50, 52, ...   \n",
       "2  {1: [49, 48, 49, 56, 48], 2: [50, 48, 50, 52, ...   \n",
       "3  {1: [49, 48, 49, 56, 56], 2: [50, 48, 50, 52, ...   \n",
       "4  {1: [49, 48, 50, 48, 49], 2: [50, 48, 50, 52, ...   \n",
       "5  {2147483546: [115, 51, 97, 58, 47, 47, 100, 97...   \n",
       "\n",
       "                                        upper_bounds key_metadata  \\\n",
       "0  {1: [49, 48, 49, 54, 56], 2: [50, 48, 50, 52, ...         None   \n",
       "1  {1: [49, 48, 49, 54, 56], 2: [50, 48, 50, 52, ...         None   \n",
       "2  {1: [49, 48, 49, 56, 48], 2: [50, 48, 50, 52, ...         None   \n",
       "3  {1: [49, 48, 49, 56, 56], 2: [50, 48, 50, 52, ...         None   \n",
       "4  {1: [49, 48, 50, 48, 49], 2: [50, 48, 50, 52, ...         None   \n",
       "5  {2147483546: [115, 51, 97, 58, 47, 47, 100, 97...         None   \n",
       "\n",
       "  split_offsets equality_ids  sort_order_id  \\\n",
       "0           [4]         None            0.0   \n",
       "1           [4]         None            0.0   \n",
       "2           [4]         None            0.0   \n",
       "3           [4]         None            0.0   \n",
       "4           [4]         None            0.0   \n",
       "5           [4]         None            NaN   \n",
       "\n",
       "                                    readable_metrics  \n",
       "0  ((48, 1, 0, None, France, France), (52, 1, 0, ...  \n",
       "1  ((48, 1, 0, None, France, France), (52, 1, 0, ...  \n",
       "2  ((48, 1, 0, None, Norway, Norway), (52, 1, 0, ...  \n",
       "3  ((51, 1, 0, None, Australia, Australia), (52, ...  \n",
       "4  ((49, 1, 0, None, Finland, Finland), (52, 1, 0...  \n",
       "5  ((None, None, None, None, None, None), (None, ...  "
      ]
     },
     "execution_count": 32,
     "metadata": {},
     "output_type": "execute_result"
    }
   ],
   "source": [
    "## Listar arquivos de dados\n",
    "spark.sql(\"SELECT * FROM iceberg.bronze.vendas.files;\").toPandas()"
   ]
  },
  {
   "cell_type": "code",
   "execution_count": 33,
   "id": "68383779-54b1-430a-a8a7-f67557b6bf0d",
   "metadata": {},
   "outputs": [
    {
     "data": {
      "text/html": [
       "<div>\n",
       "<style scoped>\n",
       "    .dataframe tbody tr th:only-of-type {\n",
       "        vertical-align: middle;\n",
       "    }\n",
       "\n",
       "    .dataframe tbody tr th {\n",
       "        vertical-align: top;\n",
       "    }\n",
       "\n",
       "    .dataframe thead th {\n",
       "        text-align: right;\n",
       "    }\n",
       "</style>\n",
       "<table border=\"1\" class=\"dataframe\">\n",
       "  <thead>\n",
       "    <tr style=\"text-align: right;\">\n",
       "      <th></th>\n",
       "      <th>content</th>\n",
       "      <th>path</th>\n",
       "      <th>length</th>\n",
       "      <th>partition_spec_id</th>\n",
       "      <th>added_snapshot_id</th>\n",
       "      <th>added_data_files_count</th>\n",
       "      <th>existing_data_files_count</th>\n",
       "      <th>deleted_data_files_count</th>\n",
       "      <th>added_delete_files_count</th>\n",
       "      <th>existing_delete_files_count</th>\n",
       "      <th>deleted_delete_files_count</th>\n",
       "      <th>partition_summaries</th>\n",
       "    </tr>\n",
       "  </thead>\n",
       "  <tbody>\n",
       "    <tr>\n",
       "      <th>0</th>\n",
       "      <td>0</td>\n",
       "      <td>s3a://datalake/iceberg/bronze/vendas/metadata/...</td>\n",
       "      <td>7142</td>\n",
       "      <td>0</td>\n",
       "      <td>1548163295742755684</td>\n",
       "      <td>1</td>\n",
       "      <td>0</td>\n",
       "      <td>0</td>\n",
       "      <td>0</td>\n",
       "      <td>0</td>\n",
       "      <td>0</td>\n",
       "      <td>[]</td>\n",
       "    </tr>\n",
       "    <tr>\n",
       "      <th>1</th>\n",
       "      <td>0</td>\n",
       "      <td>s3a://datalake/iceberg/bronze/vendas/metadata/...</td>\n",
       "      <td>7317</td>\n",
       "      <td>0</td>\n",
       "      <td>780635310986335313</td>\n",
       "      <td>4</td>\n",
       "      <td>0</td>\n",
       "      <td>0</td>\n",
       "      <td>0</td>\n",
       "      <td>0</td>\n",
       "      <td>0</td>\n",
       "      <td>[]</td>\n",
       "    </tr>\n",
       "    <tr>\n",
       "      <th>2</th>\n",
       "      <td>1</td>\n",
       "      <td>s3a://datalake/iceberg/bronze/vendas/metadata/...</td>\n",
       "      <td>7116</td>\n",
       "      <td>0</td>\n",
       "      <td>1548163295742755684</td>\n",
       "      <td>0</td>\n",
       "      <td>0</td>\n",
       "      <td>0</td>\n",
       "      <td>1</td>\n",
       "      <td>0</td>\n",
       "      <td>0</td>\n",
       "      <td>[]</td>\n",
       "    </tr>\n",
       "  </tbody>\n",
       "</table>\n",
       "</div>"
      ],
      "text/plain": [
       "   content                                               path  length  \\\n",
       "0        0  s3a://datalake/iceberg/bronze/vendas/metadata/...    7142   \n",
       "1        0  s3a://datalake/iceberg/bronze/vendas/metadata/...    7317   \n",
       "2        1  s3a://datalake/iceberg/bronze/vendas/metadata/...    7116   \n",
       "\n",
       "   partition_spec_id    added_snapshot_id  added_data_files_count  \\\n",
       "0                  0  1548163295742755684                       1   \n",
       "1                  0   780635310986335313                       4   \n",
       "2                  0  1548163295742755684                       0   \n",
       "\n",
       "   existing_data_files_count  deleted_data_files_count  \\\n",
       "0                          0                         0   \n",
       "1                          0                         0   \n",
       "2                          0                         0   \n",
       "\n",
       "   added_delete_files_count  existing_delete_files_count  \\\n",
       "0                         0                            0   \n",
       "1                         0                            0   \n",
       "2                         1                            0   \n",
       "\n",
       "   deleted_delete_files_count partition_summaries  \n",
       "0                           0                  []  \n",
       "1                           0                  []  \n",
       "2                           0                  []  "
      ]
     },
     "execution_count": 33,
     "metadata": {},
     "output_type": "execute_result"
    }
   ],
   "source": [
    "# Listar arquivos de metadados\n",
    "spark.sql(\"SELECT * FROM iceberg.bronze.vendas.manifests;\").toPandas()"
   ]
  },
  {
   "cell_type": "code",
   "execution_count": null,
   "id": "42d77a61-9462-43d5-8655-6ffa568a43a7",
   "metadata": {},
   "outputs": [],
   "source": [
    "# # ## Para deletar por completo do catalog e storage\n",
    "# spark.sql(\"DROP TABLE iceberg.bronze.vendas PURGE\")"
   ]
  },
  {
   "cell_type": "code",
   "execution_count": null,
   "id": "7a71d058-1cdb-45af-bb21-65e9a8cea21d",
   "metadata": {},
   "outputs": [],
   "source": [
    "# spark.stop()"
   ]
  }
 ],
 "metadata": {
  "kernelspec": {
   "display_name": "Python 3 (ipykernel)",
   "language": "python",
   "name": "python3"
  },
  "language_info": {
   "codemirror_mode": {
    "name": "ipython",
    "version": 3
   },
   "file_extension": ".py",
   "mimetype": "text/x-python",
   "name": "python",
   "nbconvert_exporter": "python",
   "pygments_lexer": "ipython3",
   "version": "3.8.10"
  }
 },
 "nbformat": 4,
 "nbformat_minor": 5
}
