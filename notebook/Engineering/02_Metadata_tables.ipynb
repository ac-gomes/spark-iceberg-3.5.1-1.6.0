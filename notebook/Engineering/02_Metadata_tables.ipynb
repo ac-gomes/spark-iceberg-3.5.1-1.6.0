{
 "cells": [
  {
   "cell_type": "code",
   "execution_count": null,
   "id": "913405cc-f3fd-47b2-add1-12e7d4d2735f",
   "metadata": {},
   "outputs": [],
   "source": [
    "from pyspark.sql import SparkSession\n",
    "spark = SparkSession.builder \\\n",
    "    .appName('metadata_tables') \\\n",
    "    .config(\"spark.jars\", \"/opt/spark/jars/iceberg-spark-runtime-3.5_2.12-1.6.0.jar\") \\\n",
    "    .config(\"spark.sql.extensions\", \"org.apache.iceberg.spark.extensions.IcebergSparkSessionExtensions\") \\\n",
    "    .config(\"spark.sql.catalog.local\", \"org.apache.iceberg.spark.SparkCatalog\") \\\n",
    "    .config(\"spark.sql.catalog.spark_catalog.type\", \"hive\") \\\n",
    "    .config(\"spark.sql.catalog.local.warehouse\", \"s3a://datalake/iceberg\") \\\n",
    "    .getOrCreate()\n",
    "\n",
    "#Ajuste de log WARN log para ERROR\n",
    "spark.sparkContext.setLogLevel(\"ERROR\")"
   ]
  },
  {
   "cell_type": "markdown",
   "id": "38c8af5a-1de0-4c78-af45-ea02a3e12950",
   "metadata": {},
   "source": [
    "### Listar arquivos de Metadados e Aquivos de dados com SparkSQL\n",
    " Documentação: https://iceberg.apache.org/docs/latest/spark-queries/\n",
    " - Listar arquivos de dados\n",
    " - Listar arquivos de metadados (Manifests)\n",
    " - Listar referencias conhecidas como snapshots da tabela\n",
    " - Listar snapshots\n",
    " - Listar partições"
   ]
  },
  {
   "cell_type": "code",
   "execution_count": null,
   "id": "b149cd60-c6a7-475e-966b-759d8e5f627b",
   "metadata": {},
   "outputs": [],
   "source": [
    "# Listar arquivos de dados\n",
    "spark.sql(\"SELECT * FROM iceberg.bronze.vendas.files;\").show()"
   ]
  },
  {
   "cell_type": "code",
   "execution_count": null,
   "id": "b6aad83d-a613-4c1c-a0b5-062a6d3d3a67",
   "metadata": {},
   "outputs": [],
   "source": [
    "# Listar arquivos de dados\n",
    "spark.sql(\"SELECT * FROM iceberg.bronze.vendas.manifests;\").show()"
   ]
  },
  {
   "cell_type": "code",
   "execution_count": null,
   "id": "8a394ee4-d655-4a62-8f07-92d9cdcc357b",
   "metadata": {},
   "outputs": [],
   "source": [
    "spark.sql(\"SELECT * FROM prod.db.table.refs;\").show()"
   ]
  },
  {
   "cell_type": "code",
   "execution_count": null,
   "id": "04e891e9-0617-41eb-bc64-f71bb15e6d72",
   "metadata": {},
   "outputs": [],
   "source": [
    "spark.sql(\"SELECT * FROM prod.db.table.snapshots;\").show()"
   ]
  },
  {
   "cell_type": "code",
   "execution_count": null,
   "id": "e532ef2d-5891-4841-b36f-b0ae7faef018",
   "metadata": {},
   "outputs": [],
   "source": [
    "spark.sql(\"SELECT * FROM iceberg.bronze.vendas.partitions;\").show()"
   ]
  }
 ],
 "metadata": {
  "kernelspec": {
   "display_name": "Python 3 (ipykernel)",
   "language": "python",
   "name": "python3"
  },
  "language_info": {
   "codemirror_mode": {
    "name": "ipython",
    "version": 3
   },
   "file_extension": ".py",
   "mimetype": "text/x-python",
   "name": "python",
   "nbconvert_exporter": "python",
   "pygments_lexer": "ipython3",
   "version": "3.8.10"
  }
 },
 "nbformat": 4,
 "nbformat_minor": 5
}
