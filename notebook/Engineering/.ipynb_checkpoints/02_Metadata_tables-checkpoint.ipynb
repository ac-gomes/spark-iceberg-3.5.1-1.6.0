{
 "cells": [
  {
   "cell_type": "markdown",
   "id": "38c8af5a-1de0-4c78-af45-ea02a3e12950",
   "metadata": {},
   "source": [
    "### Listar arquivos de Metadados e arquivos de Dados com SparkSQL\n",
    " \n",
    " - Listar arquivos de dados\n",
    " - Listar arquivos de metadados (Manifests)\n",
    " - Listar referencias, conhecidas como snapshots da tabela\n",
    " - Listar snapshots\n",
    " - Listar partições\n",
    "\n",
    "Documentação: https://iceberg.apache.org/docs/latest/spark-queries/"
   ]
  },
  {
   "cell_type": "code",
   "execution_count": null,
   "id": "b149cd60-c6a7-475e-966b-759d8e5f627b",
   "metadata": {},
   "outputs": [],
   "source": [
    "# Listar arquivos de dados\n",
    "spark.sql(\"SELECT * FROM iceberg.bronze.vendas.files;\").show()"
   ]
  },
  {
   "cell_type": "code",
   "execution_count": null,
   "id": "b6aad83d-a613-4c1c-a0b5-062a6d3d3a67",
   "metadata": {},
   "outputs": [],
   "source": [
    "# Listar arquivos de dados\n",
    "spark.sql(\"SELECT * FROM iceberg.bronze.vendas.manifests;\").show()"
   ]
  },
  {
   "cell_type": "code",
   "execution_count": null,
   "id": "8a394ee4-d655-4a62-8f07-92d9cdcc357b",
   "metadata": {},
   "outputs": [],
   "source": [
    "spark.sql(\"SELECT * FROM prod.db.table.refs;\").show()"
   ]
  },
  {
   "cell_type": "code",
   "execution_count": null,
   "id": "04e891e9-0617-41eb-bc64-f71bb15e6d72",
   "metadata": {},
   "outputs": [],
   "source": [
    "spark.sql(\"SELECT * FROM prod.db.table.snapshots;\").show()"
   ]
  },
  {
   "cell_type": "code",
   "execution_count": null,
   "id": "e532ef2d-5891-4841-b36f-b0ae7faef018",
   "metadata": {},
   "outputs": [],
   "source": [
    "spark.sql(\"SELECT * FROM iceberg.bronze.vendas.partitions;\").show()"
   ]
  },
  {
   "cell_type": "markdown",
   "id": "885e41fa-fe0d-49c0-a36b-6f250e5e07b2",
   "metadata": {},
   "source": [
    "### É possivel relacionar o historico da tabela com a tabelela de snapshots"
   ]
  },
  {
   "cell_type": "code",
   "execution_count": null,
   "id": "c52c2c79-035a-4a65-91b8-f92bb44be03c",
   "metadata": {},
   "outputs": [],
   "source": [
    "spark.sql(\"\"\" \n",
    "    SELECT\n",
    "    \th.made_current_at,\n",
    "    \ts.operation,\n",
    "    \th.snapshot_id,\n",
    "    \th.is_current_ancestor,\n",
    "    \ts.summary['spark.app.id']\n",
    "    FROM iceberg.bronze.vendas.history h\n",
    "    JOIN iceberg.bronze.vendas.snapshots s\n",
    "      ON h.snapshot_id = s.snapshot_id\n",
    "    ORDER BY made_current_at;\"\"\"\n",
    ").toPandas()"
   ]
  }
 ],
 "metadata": {
  "kernelspec": {
   "display_name": "Python 3 (ipykernel)",
   "language": "python",
   "name": "python3"
  },
  "language_info": {
   "codemirror_mode": {
    "name": "ipython",
    "version": 3
   },
   "file_extension": ".py",
   "mimetype": "text/x-python",
   "name": "python",
   "nbconvert_exporter": "python",
   "pygments_lexer": "ipython3",
   "version": "3.8.10"
  }
 },
 "nbformat": 4,
 "nbformat_minor": 5
}
