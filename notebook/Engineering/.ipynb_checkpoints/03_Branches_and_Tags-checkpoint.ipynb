{
 "cells": [
  {
   "cell_type": "markdown",
   "id": "593b11e5-7a0f-47c7-9ddf-819c9be0773d",
   "metadata": {},
   "source": [
    "### Branching and Tagging - Visão Geral\n",
    "\n",
    "As tabelas do Iceberg matem um log de snapshots, que por sua vez representão as mudanças aplicadas na tabela.\n",
    "Os snapshots são fundamentais no formato de tabela Iceberg, pois eles garantem o isolamento das onsultas/queries e permitem o \"time travel\" entre as diferentes \"versões de dados\" da tabela.\n",
    "\n",
    "Para carontrolar o tamanho dos metadados e custos de armazenamento, Iceberg fornece um gerenciamento de ciclo de vida de snapshots. Que pode ser executado via procedures como **_expire_snapshots_** para remoção de de arquivos de dados não utilizados com base nas propriedades dos snapshots.\n",
    "\n",
    "Para possibilidar o gerenciamento de ciclo de vidade de snapshots. O Iceberg suporta Branches e Tags, Esses recursos garantem que os snapshots tenham seus proprios ciclos de vida que por sua vez podem ser controlados por politicas de retenção em nivel de Branch e tag.\n",
    "\n",
    "**Branches (Ramificações):** São referências mutáveis que podem ser atualizadas para apontar para um novo snapshot. Isso significa que uma branch pode evoluir ao longo do tempo, acompanhando as mudanças na tabela. Uma branch é como uma linha de desenvolvimento independente, permitindo que você faça alterações sem afetar a \"linha principal\" de desenvolvimento (main branch).\n",
    "\n",
    "**Tags (Etiquetas):** São referências imutáveis a um snapshot específico. Uma vez criada, uma tag sempre apontará para o mesmo snapshot, independentemente de quaisquer alterações subsequentes na tabela. As tags servem como marcadores fixos no tempo, permitindo que você retorne a um estado específico da tabela com facilidade.\n",
    "\n",
    "fonte: https://iceberg.apache.org/docs/1.6.1/branching/"
   ]
  },
  {
   "attachments": {},
   "cell_type": "markdown",
   "id": "ad0b9c5c-6cc5-4117-a47f-24569690f868",
   "metadata": {},
   "source": [
    "### Write-Audit-Publish (WAP)\n",
    "Branch no Iceberg é similar ao sistema de controle de versionamento de código git.\n",
    "\n",
    "Com as Branches você poderar perfeitamente controlar e gerenciar as versões dos seus dados de forma isolada, assim como ocorre na Engenharia de Software com os códigos. A partir de agora, no Apache Iceberg podemos falar do padrão de engenharia de dados WAP que visa garantir a qualidade dos dados antes de desponibiliza-los para consumo.<br>\n",
    "\n",
    "**Write (Escrita):** Os dados são gravados inicialmente em um local de teste ou staging, em vez de serem gravados diretamente na tabela principal. Isso isola os dados de produção de possíveis inconsistências. No Apache Iceberg, isso geralmente é feito gravando em um branch separado da tabela principal.\n",
    "\n",
    "**Audit (Auditoria):** Uma vez que os dados estão em staging, eles são submetidos a um processo de validação completo para garantir que atendam aos padrões de qualidade. Isso pode incluir a verificação de valores nulos ou duplicados, validação de tipos de dados e verificação da integridade dos dados. Qualquer ferramenta de qualidade de dados pode ser usada para essa etapa.\n",
    "\n",
    "**Publish (Publicação):** Após a validação, os dados são promovidos para a tabela de produção. No Iceberg, isso geralmente é feito por meio de um fast-forward do branch de staging para o branch principal. \n",
    "\n",
    "![ci/cd](https://www.tabular.io/wp-content/uploads/2024/01/image1-1024x182.png) <br>\n",
    "\n",
    "fonte: https://www.tabular.io/apache-iceberg-cookbook/data-engineering-write-audit-publish/"
   ]
  },
  {
   "cell_type": "markdown",
   "id": "12e19af8-548a-451a-9d50-7edbd000f6c0",
   "metadata": {},
   "source": [
    "### Carregar Recursos"
   ]
  },
  {
   "cell_type": "code",
   "execution_count": null,
   "id": "ebae8ed3-dbb2-40bb-9efb-6cbec2fc3921",
   "metadata": {},
   "outputs": [],
   "source": [
    "# Importar funções \n",
    "from IPython.display import display, HTML"
   ]
  },
  {
   "cell_type": "code",
   "execution_count": null,
   "id": "46e33edb-3383-481b-82bd-270d579f43e3",
   "metadata": {},
   "outputs": [],
   "source": [
    "%run ./Includes/Utils.ipynb"
   ]
  },
  {
   "cell_type": "code",
   "execution_count": null,
   "id": "8be4cbbb-81c8-44c9-9f04-ae23fe77aa83",
   "metadata": {},
   "outputs": [],
   "source": [
    "## Listar branches da tabela\n",
    "\n",
    "spark.sql(\"SELECT * FROM iceberg.bronze.vendas.refs;\").toPandas()"
   ]
  },
  {
   "cell_type": "markdown",
   "id": "96f57465-6db0-49b2-955e-25554dce42b1",
   "metadata": {},
   "source": [
    "### Ativar o Write-Audit-Publish(WAP) e Criar a nova Branche"
   ]
  },
  {
   "cell_type": "code",
   "execution_count": null,
   "id": "13f612f9-d973-47a1-ae77-7cb63ed55d13",
   "metadata": {},
   "outputs": [],
   "source": [
    "## Ativar WAP\n",
    "spark.sql(\"\"\"\n",
    "    ALTER TABLE iceberg.bronze.vendas\n",
    "    SET TBLPROPERTIES (\n",
    "        'write.wap.enabled' = 'true'\n",
    "    )\"\"\"\n",
    ")"
   ]
  },
  {
   "cell_type": "code",
   "execution_count": null,
   "id": "ddd57b07-207b-4ff4-b38b-10e68a3b6bc6",
   "metadata": {},
   "outputs": [],
   "source": [
    "# Criar uma branch chamada dev_etl\n",
    "\n",
    "spark.sql(\"ALTER TABLE iceberg.bronze.vendas CREATE BRANCH dev_etl\").show()"
   ]
  },
  {
   "cell_type": "markdown",
   "id": "0a0247d6-7582-45d4-8723-3a97dbd14652",
   "metadata": {},
   "source": [
    "### <span style=\"color:blue\"> Quando for trabalhar com as branches, é importante adicionar o prefixo``` branch_ ``` ao nome da nova branch </span>.\n",
    "\n",
    "- <span style=\"color:red\">Cuidado para não inserir dados por engano na branch ``` main ``` </span>.\n",
    "- <span style=\"color:red\">Caso isso ocorra após a criação da branch de etl, você perderar a referencia da branch **'pai'** e não conseguirá fazer um merge </span>.\n",
    "- <span style=\"color:red\">Caso você perca a referencia do ultimo estado 'válido/correto' da tabela. Terá que fazer um rollback para o ultimo snapshot sem alterações </span>.\n"
   ]
  },
  {
   "cell_type": "markdown",
   "id": "16b99d22-87f3-41e0-8dcf-4cede46f68be",
   "metadata": {},
   "source": [
    "### Inspecionar tabela"
   ]
  },
  {
   "cell_type": "code",
   "execution_count": null,
   "id": "91e469ac-a818-4150-89c8-f1b86420bd93",
   "metadata": {},
   "outputs": [],
   "source": [
    "## Exibir os dados da brach dev_etl ===> Quando for listar uma branche é importante adicionar o prefixo branch_dev_etl\n",
    "\n",
    "spark.sql(\"SELECT * FROM iceberg.bronze.vendas.branch_dev_etl\").toPandas()"
   ]
  },
  {
   "cell_type": "code",
   "execution_count": null,
   "id": "f656f948-b3a5-47cb-accf-d4c2ffa49c3c",
   "metadata": {},
   "outputs": [],
   "source": [
    "## Listar branches\n",
    "\n",
    "spark.sql(\"SELECT * FROM iceberg.bronze.vendas.refs;\").toPandas()"
   ]
  },
  {
   "cell_type": "code",
   "execution_count": null,
   "id": "0e7ac96d-c22e-4669-b0ce-8c16c0f3c325",
   "metadata": {},
   "outputs": [],
   "source": [
    "## Listar snapshots\n",
    "\n",
    "spark.sql(\"SELECT * FROM iceberg.bronze.vendas.snapshots;\").toPandas()"
   ]
  },
  {
   "cell_type": "code",
   "execution_count": null,
   "id": "3459d79d-d804-4535-9a85-92da33ff1f76",
   "metadata": {},
   "outputs": [],
   "source": [
    "## Listar tabela por versão main\n",
    "spark.sql(\"SELECT * FROM iceberg.bronze.vendas VERSION AS OF 'main' \")"
   ]
  },
  {
   "cell_type": "code",
   "execution_count": null,
   "id": "0122c5d5-d905-4a5f-a097-551559010045",
   "metadata": {},
   "outputs": [],
   "source": [
    "## Listar tabela por versão dev_etl\n",
    "spark.sql(\"SELECT * FROM iceberg.bronze.vendas VERSION AS OF 'dev_etl' \")"
   ]
  },
  {
   "cell_type": "markdown",
   "id": "aeb54146-ded4-42a4-94bf-679afe8d44e0",
   "metadata": {},
   "source": [
    "### Inserir Novos dados na branch dev"
   ]
  },
  {
   "cell_type": "code",
   "execution_count": null,
   "id": "8a089b1c-a258-47b5-9ae5-0eb9fca726ec",
   "metadata": {},
   "outputs": [],
   "source": [
    "## Inserir novos dados\n",
    "\n",
    "mar_data_df = create_dataframe(columns_schema, mar_data)\n",
    "\n",
    "mar_data_df.writeTo(\"iceberg.bronze.vendas.branch_dev_etl\").append()"
   ]
  },
  {
   "cell_type": "code",
   "execution_count": null,
   "id": "bf895b0b-0e47-4c01-81d6-2cdf321bfb9d",
   "metadata": {},
   "outputs": [],
   "source": [
    "## Inserir novos dados\n",
    "\n",
    "# apr_data_df = create_dataframe(columns_schema, apr_data)\n",
    "\n",
    "# apr_data_df.writeTo(\"iceberg.bronze.vendas.branch_dev_etl\").append()"
   ]
  },
  {
   "cell_type": "code",
   "execution_count": null,
   "id": "da0544c1-d7db-4b31-848c-f29f12876bba",
   "metadata": {},
   "outputs": [],
   "source": [
    "## Exibir novamente os dados da brach dev_branch\n",
    "\n",
    "spark.sql(\"SELECT * FROM iceberg.bronze.vendas.branch_dev_etl\").toPandas()"
   ]
  },
  {
   "cell_type": "code",
   "execution_count": null,
   "id": "b6e5290b-540a-4024-bb90-a2734b637e92",
   "metadata": {},
   "outputs": [],
   "source": [
    "## Exibir os dados da brach main\n",
    "\n",
    "spark.sql(\"SELECT * FROM iceberg.bronze.vendas\").toPandas()"
   ]
  },
  {
   "cell_type": "markdown",
   "id": "33c4761f-8f80-403e-ac7a-4cd9fb1a629a",
   "metadata": {},
   "source": [
    "### Fast forward - Merge da dev_branch na branch main\n",
    "Para publicar a branch ``` 'dev' ``` na branch ``` 'main' ``` basta usar a procedure: catalog.system.fast_forward('catalog.db.tabela', 'main', 'dev').<br>\n",
    " \n",
    "Esta procedure faz uma mescla entre as duas versões da tabela, o processo é similar a mesclar um pull request no Git.\n",
    " \n",
    "Esta procedure moverá o ponteiro do branch main para o mesmo commit do branch ``` 'dev' ``` , e efetivamente faz a publicação das alterações na branch principal (``` 'main' ```)."
   ]
  },
  {
   "cell_type": "code",
   "execution_count": null,
   "id": "377ebb2c-0589-4c34-80e3-0d0cbe95a3bb",
   "metadata": {},
   "outputs": [],
   "source": [
    "spark.sql(f\" CALL iceberg.system.fast_forward('iceberg.bronze.vendas', 'main', 'dev_etl')\")"
   ]
  },
  {
   "cell_type": "markdown",
   "id": "d36a100d-5793-47ce-a186-06fa5b542beb",
   "metadata": {},
   "source": [
    "### Se tudo deu certo vamos deletar a branch de dev"
   ]
  },
  {
   "cell_type": "code",
   "execution_count": 2,
   "id": "e8832996-2852-4da8-b593-9d32948d4255",
   "metadata": {},
   "outputs": [],
   "source": [
    "## Em caso de sucesso ou falha é bom não deixar historico desnecessário ==> Boas praticas do padrão Feature-Branch\n",
    "spark.sql(\"ALTER TABLE iceberg.bronze.vendas DROP BRANCH dev_etl\")"
   ]
  },
  {
   "cell_type": "code",
   "execution_count": null,
   "id": "e1507b5a-e42a-4be1-b6d9-465a2c4ebbcf",
   "metadata": {},
   "outputs": [],
   "source": [
    "\n",
    "#Exibir versão final\n",
    "spark.sql(\"SELECT * FROM iceberg.bronze.vendas\").toPandas()"
   ]
  }
 ],
 "metadata": {
  "kernelspec": {
   "display_name": "Python 3 (ipykernel)",
   "language": "python",
   "name": "python3"
  },
  "language_info": {
   "codemirror_mode": {
    "name": "ipython",
    "version": 3
   },
   "file_extension": ".py",
   "mimetype": "text/x-python",
   "name": "python",
   "nbconvert_exporter": "python",
   "pygments_lexer": "ipython3",
   "version": "3.8.10"
  }
 },
 "nbformat": 4,
 "nbformat_minor": 5
}
