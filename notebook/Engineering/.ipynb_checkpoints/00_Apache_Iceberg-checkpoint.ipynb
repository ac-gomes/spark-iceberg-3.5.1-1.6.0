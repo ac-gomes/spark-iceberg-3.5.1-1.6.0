{
 "cells": [
  {
   "cell_type": "markdown",
   "id": "c888aa3d-b628-403e-bfc0-dcb6ae7471b9",
   "metadata": {},
   "source": [
    "### Benefícios do Apache Iceberg\n",
    "O Apache Iceberg oferece uma série of benefícios chave para organizações que gerenciam grandes conjuntos de dados em data lakes, tornando a análise de dados mais eficiente, confiável e flexível.\n",
    "\n",
    "**Consistência transacional entre várias aplicações:** O Iceberg garante que múltiplas aplicações possam processar o mesmo conjunto de dados simultaneamente, com resultados consistentes, mesmo com adições, remoções ou modificações de arquivos. [1] Isso simplifica o gerenciamento de dados e elimina a necessidade de pipelines complexos ou áreas de staging. [2, 3]<br>\n",
    "\n",
    "**Evolução completa do esquema:** O Iceberg rastreia as alterações em uma tabela ao longo do tempo, permitindo que você acompanhe a evolução do seu conjunto de dados. [1] Essa funcionalidade facilita a adaptação a mudanças nos dados sem comprometer a integridade da tabela.<br>\n",
    "\n",
    "**Viagem no tempo:** O Iceberg permite consultar dados históricos e verificar alterações entre atualizações. [1] Essa funcionalidade é crucial para auditoria, análise de tendências e recuperação de dados em caso de erros. [4]<br>\n",
    "\n",
    "**Layout e evolução da partição:** O Iceberg permite atualizar os esquemas de partição à medida que as consultas e os volumes de dados mudam. [1] Essa flexibilidade otimiza o desempenho das consultas, ajustando o layout da tabela às suas necessidades.<br>\n",
    "\n",
    "**Rollback para versões anteriores:** O Iceberg permite reverter para snapshots anteriores da tabela, corrigindo problemas rapidamente e restaurando a tabela a um estado confiável. [1, 4]<br>\n",
    "\n",
    "**Recursos avançados de planejamento e filtragem:** O Iceberg oferece alto desempenho em grandes volumes de dados, graças a seus recursos inteligentes de organização de metadados e filtragem. [5]<br>\n",
    "\n",
    "**Arquitetura aberta e independente:** O Iceberg é 100% open source e não depende de nenhuma ferramenta ou mecanismo de data lake específico. [4] Essa independência garante flexibilidade para mudar de sistemas ao longo do tempo sem interromper os usuários ou cargas de trabalho existentes. [4]<br>\n",
    "\n",
    "**Suporte a formatos de arquivo padrão do setor:** O Iceberg suporta formatos de arquivo comuns, como Parquet, ORC e Avro. [4] <br>\n",
    "\n",
    "**Compatível com os principais mecanismos de data lake:** O Iceberg é suportado por mecanismos como Dremio, Spark, Hive e Presto. [4] <br>\n",
    "\n",
    "**Simplificação de pipelines ETL:** O Iceberg simplifica os pipelines ETL, permitindo que as aplicações operem nos dados diretamente no data lake, sem a necessidade de mover dados entre sistemas. [3] Isso resulta em pipelines mais confiáveis e menos propensos a erros.<br>\n",
    "\n",
    "**Melhoria do gerenciamento de dados:** O Iceberg oferece uma maneira mais eficiente de gerenciar datasets à medida que eles mudam e evoluem ao longo do tempo. [3]<br>\n",
    "\n",
    "**Aumento da confiabilidade dos dados:** O Iceberg ajuda a identificar e resolver problemas de dados com mais facilidade, graças ao seu histórico completo de alterações e capacidade de rollback. [3]<br>\n",
    "\n",
    "\n",
    "fonte: \n",
    "- https://www.dremio.com/blog/a-hands-on-look-at-the-structure-of-an-apache-iceberg-table/\n",
    "- https://www.dremio.com/resources/guides/apache-iceberg/\n",
    "- https://iceberg.apache.org/spec/"
   ]
  },
  {
   "cell_type": "markdown",
   "id": "a7284c3a-465f-4d26-b680-912d5e5004ae",
   "metadata": {},
   "source": [
    "![dremio](https://www.dremio.com/wp-content/uploads/2022/08/Fig1-1-1024x576.png)"
   ]
  }
 ],
 "metadata": {
  "kernelspec": {
   "display_name": "Python 3 (ipykernel)",
   "language": "python",
   "name": "python3"
  },
  "language_info": {
   "codemirror_mode": {
    "name": "ipython",
    "version": 3
   },
   "file_extension": ".py",
   "mimetype": "text/x-python",
   "name": "python",
   "nbconvert_exporter": "python",
   "pygments_lexer": "ipython3",
   "version": "3.8.10"
  }
 },
 "nbformat": 4,
 "nbformat_minor": 5
}
