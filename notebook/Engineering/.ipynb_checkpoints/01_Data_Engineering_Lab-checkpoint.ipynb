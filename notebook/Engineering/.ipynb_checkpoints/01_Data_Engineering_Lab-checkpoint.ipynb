{
 "cells": [
  {
   "cell_type": "code",
   "execution_count": 18,
   "id": "411dd29b-8178-46c2-b259-28fce0fd6057",
   "metadata": {},
   "outputs": [],
   "source": [
    "from pyspark.sql import SparkSession\n",
    "spark = SparkSession.builder \\\n",
    "    .appName('dataincode') \\\n",
    "    .config(\"spark.jars\", \"/opt/spark/jars/iceberg-spark-runtime-3.5_2.12-1.6.0.jar\") \\\n",
    "    .config(\"spark.sql.extensions\", \"org.apache.iceberg.spark.extensions.IcebergSparkSessionExtensions\") \\\n",
    "    .config(\"spark.sql.catalog.local\", \"org.apache.iceberg.spark.SparkCatalog\") \\\n",
    "    .config(\"spark.sql.catalog.spark_catalog.type\", \"hive\") \\\n",
    "    .config(\"spark.sql.catalog.local.warehouse\", \"s3a://datalake/iceberg\") \\\n",
    "    .getOrCreate()\n",
    "\n",
    "#Ajuste de log WARN log para ERROR\n",
    "spark.sparkContext.setLogLevel(\"ERROR\")"
   ]
  },
  {
   "cell_type": "code",
   "execution_count": 27,
   "id": "32f4a187-90c8-4c20-99e3-41def3c84091",
   "metadata": {},
   "outputs": [],
   "source": [
    "# Importar funções \n",
    "from IPython.display import display, HTML"
   ]
  },
  {
   "cell_type": "code",
   "execution_count": 115,
   "id": "cede674d-85dd-49f7-9f3c-0174ae17b033",
   "metadata": {},
   "outputs": [
    {
     "data": {
      "text/html": [
       "\n",
       "<style>\n",
       "    .code-box {\n",
       "        background-color: #f8f9fa !important; \n",
       "        border: 1px solid #ced4da !important;\n",
       "        border-radius: 5px !important;\n",
       "        padding: 10px !important;\n",
       "        font-family: Consolas, Monaco, \"Andale Mono\", \"Ubuntu Mono\", monospace !important;\n",
       "        color: #28a745 !important;\n",
       "        overflow-x: auto;    }\n",
       "\n",
       "    /* Estilo adicional para o código dentro da caixa */\n",
       "    .code-box code {\n",
       "        background: transparent !important;     /* Remove fundo do código */\n",
       "        color: #28a745 !important;              /* Cor do texto verde */\n",
       "    }\n",
       "</style>\n",
       "<pre class=\"code-box\"><code>\n",
       "# Função para criar novos DFs disponivel, Para acessar a Docstring\n",
       "create_dataframe?   \n",
       "\n",
       "# Ou\n",
       "help(create_dataframe)\n",
       "</code></pre>\n"
      ],
      "text/plain": [
       "<IPython.core.display.HTML object>"
      ]
     },
     "metadata": {},
     "output_type": "display_data"
    }
   ],
   "source": [
    "%run ./Includes/Utils.ipynb"
   ]
  },
  {
   "cell_type": "code",
   "execution_count": 116,
   "id": "7e7047d7-f97c-4266-90e9-3be3aec038b5",
   "metadata": {},
   "outputs": [
    {
     "data": {
      "text/html": [
       "\n",
       "    Recursos disponiveis: Um schema, 4 amostras de dados compativeis com schema. <br>\n",
       "    Você pode acessa-las pelo index da array <b><i>lista_amostras</i></b> ou indivialmente pelos seus respectivos nomes\n",
       "        <li><span style=\"color:red; font-weight:bold\">columns_schema</span></li>\n",
       "        <li><span style=\"color:green; font-weight:bold\">init_data</span></li>\n",
       "        <li><span style=\"color:green; font-weight:bold\">feb_data</span></li>\n",
       "        <li><span style=\"color:green; font-weight:bold\">mar_data</span></li>\n",
       "        <li><span style=\"color:green; font-weight:bold\">apr_data</span></li>\n"
      ],
      "text/plain": [
       "<IPython.core.display.HTML object>"
      ]
     },
     "metadata": {},
     "output_type": "display_data"
    }
   ],
   "source": [
    "%run ./Includes/Datasets.ipynb"
   ]
  },
  {
   "cell_type": "markdown",
   "id": "6cae9d19-bf4b-4c65-8c37-ba905732962b",
   "metadata": {},
   "source": [
    "## Criar Dataframes e escrever tabelas no catalogo"
   ]
  },
  {
   "cell_type": "code",
   "execution_count": 168,
   "id": "6b823115-be5c-4fe7-905a-3cbd2e7f37cd",
   "metadata": {},
   "outputs": [],
   "source": [
    "# Inicio rapido\n",
    "\n",
    "# help(create_dataframe)\n",
    "# print(lista_amostras)"
   ]
  },
  {
   "cell_type": "code",
   "execution_count": 169,
   "id": "8419e104-9bbf-481c-b580-23ea8e54f602",
   "metadata": {},
   "outputs": [],
   "source": [
    "init_data_df = create_dataframe(columns_schema, init_data)"
   ]
  },
  {
   "cell_type": "code",
   "execution_count": 167,
   "id": "ffb084ab-7c62-4fab-b1fe-916ab8e62900",
   "metadata": {},
   "outputs": [],
   "source": [
    "# init_data_df.show(5)"
   ]
  },
  {
   "cell_type": "markdown",
   "id": "f8cbff15-7158-4b4d-9262-082762c66e27",
   "metadata": {},
   "source": [
    "### Criar Tabela\n",
    "- ``` df.writeTo(t).create() ``` é equivalente a ``` CREATE TABLE AS SELECT ```\n",
    "- ``` df.writeTo(t).replace() ``` é equivalente a ``` REPLACE TABLE AS SELECT ```\n",
    "- ``` df.writeTo(t).append() ``` é equivalente a ``` INSERT INTO ```\n",
    "- ``` df.writeTo(t).overwritePartitions() ``` é equivalente a dynamic ``` INSERT OVERWRITE ```\n",
    "fonte: https://iceberg.apache.org/docs/1.6.0/spark-writes/?h=df.writeto%28t%29.create%28%29#writing-with-dataframes"
   ]
  },
  {
   "cell_type": "code",
   "execution_count": null,
   "id": "2208eec6-2f6f-47bc-8f7e-6722dc33f11e",
   "metadata": {},
   "outputs": [],
   "source": [
    "# Salvar dados\n",
    "# (\n",
    "#     init_data_df\n",
    "#     .writeTo(\"iceberg.bronze.vendas\")\n",
    "#     .partitionedBy(\"country\")\n",
    "#     .createOrReplace()\n",
    "# )"
   ]
  },
  {
   "cell_type": "code",
   "execution_count": null,
   "id": "7de5655e-1228-4a2a-8475-b68ffe3c81be",
   "metadata": {},
   "outputs": [],
   "source": [
    "## Visualizar os dados\n",
    "\n",
    "## show()\n",
    "## toPandas()\n",
    "\n",
    "spark.sql(\"SELECT * FROM iceberg.bronze.vendas\")"
   ]
  },
  {
   "cell_type": "code",
   "execution_count": null,
   "id": "e55dfc2e-9a43-46d1-b724-31ccd4f2e13d",
   "metadata": {},
   "outputs": [],
   "source": [
    "# Inserir novos dados\n",
    "\n",
    "# feb_data_df = create_dataframe(columns_schema, feb_data)\n",
    "\n",
    "# feb_data_df.writeTo(\"iceberg.bronze.vendas\").append()"
   ]
  },
  {
   "cell_type": "code",
   "execution_count": null,
   "id": "f57a123d-d4f0-46d4-b7e7-cc20bd6313eb",
   "metadata": {},
   "outputs": [],
   "source": [
    "# Inserir novos dados\n",
    "\n",
    "# mar_data_df = create_dataframe(columns_schema, mar_data)\n",
    "\n",
    "# mar_data_df.writeTo(\"iceberg.bronze.vendas\").append()"
   ]
  },
  {
   "cell_type": "code",
   "execution_count": null,
   "id": "91d8711b-2153-4a69-884e-f79ded3fc3d6",
   "metadata": {},
   "outputs": [],
   "source": [
    "# Inserir novos dados\n",
    "\n",
    "# apr_data_df = create_dataframe(columns_schema, apr_data)\n",
    "\n",
    "# apr_data_df.writeTo(\"iceberg.bronze.vendas\").append()"
   ]
  },
  {
   "cell_type": "markdown",
   "id": "cdd1979c-f850-4921-aa2a-48760bad79ca",
   "metadata": {},
   "source": [
    "### Primeiras Impressões"
   ]
  },
  {
   "cell_type": "code",
   "execution_count": 170,
   "id": "c3b79651-d9e2-478d-b56c-d9c399047d12",
   "metadata": {},
   "outputs": [],
   "source": [
    "## Descrever tabela\n",
    "\n",
    "spark.sql(\"DESCRIBE iceberg.bronze.vendas\")"
   ]
  },
  {
   "cell_type": "code",
   "execution_count": 110,
   "id": "3befd7c7-de5c-48ec-8a2c-e4fb589b1b5c",
   "metadata": {},
   "outputs": [],
   "source": [
    "## Inspecionar tabelas\n",
    "\n",
    "spark.sql(\"SELECT * FROM iceberg.bronze.vendas.history\").show()"
   ]
  }
 ],
 "metadata": {
  "kernelspec": {
   "display_name": "Python 3 (ipykernel)",
   "language": "python",
   "name": "python3"
  },
  "language_info": {
   "codemirror_mode": {
    "name": "ipython",
    "version": 3
   },
   "file_extension": ".py",
   "mimetype": "text/x-python",
   "name": "python",
   "nbconvert_exporter": "python",
   "pygments_lexer": "ipython3",
   "version": "3.8.10"
  }
 },
 "nbformat": 4,
 "nbformat_minor": 5
}
