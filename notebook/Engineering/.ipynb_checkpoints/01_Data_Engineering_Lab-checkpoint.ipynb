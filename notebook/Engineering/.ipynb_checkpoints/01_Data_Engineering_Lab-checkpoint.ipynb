{
 "cells": [
  {
   "cell_type": "code",
   "execution_count": 1,
   "id": "411dd29b-8178-46c2-b259-28fce0fd6057",
   "metadata": {},
   "outputs": [
    {
     "name": "stderr",
     "output_type": "stream",
     "text": [
      "24/10/25 19:53:57 WARN NativeCodeLoader: Unable to load native-hadoop library for your platform... using builtin-java classes where applicable\n",
      "Setting default log level to \"WARN\".\n",
      "To adjust logging level use sc.setLogLevel(newLevel). For SparkR, use setLogLevel(newLevel).\n"
     ]
    }
   ],
   "source": [
    "from pyspark.sql import SparkSession\n",
    "spark = SparkSession.builder \\\n",
    "    .appName('dataincode') \\\n",
    "    .config(\"spark.jars\", \"/opt/spark/jars/iceberg-spark-runtime-3.5_2.12-1.6.0.jar\") \\\n",
    "    .config(\"spark.sql.extensions\", \"org.apache.iceberg.spark.extensions.IcebergSparkSessionExtensions\") \\\n",
    "    .config(\"spark.sql.catalog.local\", \"org.apache.iceberg.spark.SparkCatalog\") \\\n",
    "    .config(\"spark.sql.catalog.spark_catalog.type\", \"hive\") \\\n",
    "    .config(\"spark.sql.catalog.local.warehouse\", \"s3a://datalake/iceberg\") \\\n",
    "    .getOrCreate()\n",
    "\n",
    "#Ajuste de log WARN log para ERROR\n",
    "spark.sparkContext.setLogLevel(\"ERROR\")"
   ]
  },
  {
   "cell_type": "code",
   "execution_count": 2,
   "id": "32f4a187-90c8-4c20-99e3-41def3c84091",
   "metadata": {},
   "outputs": [],
   "source": [
    "# Importar funções \n",
    "from IPython.display import display, HTML"
   ]
  },
  {
   "cell_type": "code",
   "execution_count": 3,
   "id": "cede674d-85dd-49f7-9f3c-0174ae17b033",
   "metadata": {},
   "outputs": [
    {
     "data": {
      "text/html": [
       "\n",
       "<style>\n",
       "    .code-box {\n",
       "        background-color: #f8f9fa !important; \n",
       "        border: 1px solid #ced4da !important;\n",
       "        border-radius: 5px !important;\n",
       "        padding: 10px !important;\n",
       "        font-family: Consolas, Monaco, \"Andale Mono\", \"Ubuntu Mono\", monospace !important;\n",
       "        color: #28a745 !important;\n",
       "        overflow-x: auto;    }\n",
       "\n",
       "    /* Estilo adicional para o código dentro da caixa */\n",
       "    .code-box code {\n",
       "        background: transparent !important;     /* Remove fundo do código */\n",
       "        color: #28a745 !important;              /* Cor do texto verde */\n",
       "    }\n",
       "</style>\n",
       "<pre class=\"code-box\"><code>\n",
       "# Função para criar novos DFs disponivel, Para acessar a Docstring\n",
       "create_dataframe?   \n",
       "\n",
       "# Ou\n",
       "help(create_dataframe)\n",
       "</code></pre>\n"
      ],
      "text/plain": [
       "<IPython.core.display.HTML object>"
      ]
     },
     "metadata": {},
     "output_type": "display_data"
    }
   ],
   "source": [
    "%run ./Includes/Utils.ipynb"
   ]
  },
  {
   "cell_type": "code",
   "execution_count": 4,
   "id": "7e7047d7-f97c-4266-90e9-3be3aec038b5",
   "metadata": {},
   "outputs": [
    {
     "data": {
      "text/html": [
       "\n",
       "    Recursos disponiveis: Um schema, 4 amostras de dados compativeis com schema. <br>\n",
       "    Você pode acessa-las pelo index da array <b><i>lista_amostras</i></b> ou indivialmente pelos seus respectivos nomes\n",
       "        <li><span style=\"color:red; font-weight:bold\">columns_schema</span></li>\n",
       "        <li><span style=\"color:green; font-weight:bold\">init_data</span></li>\n",
       "        <li><span style=\"color:green; font-weight:bold\">feb_data</span></li>\n",
       "        <li><span style=\"color:green; font-weight:bold\">mar_data</span></li>\n",
       "        <li><span style=\"color:green; font-weight:bold\">apr_data</span></li>\n"
      ],
      "text/plain": [
       "<IPython.core.display.HTML object>"
      ]
     },
     "metadata": {},
     "output_type": "display_data"
    }
   ],
   "source": [
    "%run ./Includes/Datasets.ipynb"
   ]
  },
  {
   "cell_type": "markdown",
   "id": "6cae9d19-bf4b-4c65-8c37-ba905732962b",
   "metadata": {},
   "source": [
    "## Criar Dataframes e escrever tabelas no catalogo"
   ]
  },
  {
   "cell_type": "code",
   "execution_count": 7,
   "id": "6b823115-be5c-4fe7-905a-3cbd2e7f37cd",
   "metadata": {},
   "outputs": [
    {
     "name": "stdout",
     "output_type": "stream",
     "text": [
      "['columns_schema', 'init_data', 'feb_data', 'mar_data', 'apr_data']\n"
     ]
    }
   ],
   "source": [
    "# Inicio rapido\n",
    "\n",
    "# help(create_dataframe)\n",
    "print(lista_amostras)\n",
    "# create_dataframe?"
   ]
  },
  {
   "cell_type": "code",
   "execution_count": 23,
   "id": "8419e104-9bbf-481c-b580-23ea8e54f602",
   "metadata": {},
   "outputs": [],
   "source": [
    "init_data_df = create_dataframe(columns_schema, init_data)"
   ]
  },
  {
   "cell_type": "code",
   "execution_count": 9,
   "id": "ffb084ab-7c62-4fab-b1fe-916ab8e62900",
   "metadata": {},
   "outputs": [
    {
     "name": "stderr",
     "output_type": "stream",
     "text": [
      "                                                                                \r"
     ]
    },
    {
     "name": "stdout",
     "output_type": "stream",
     "text": [
      "+------------+----------+-----------+----------+----------+----------+---------------+---------+\n",
      "|order_number|order_date|qty_ordered|unit_price|    status|product_id|product_line_id|  country|\n",
      "+------------+----------+-----------+----------+----------+----------+---------------+---------+\n",
      "|       10168|2024-01-23|          5|    98.115|  Disputed|  S10_1949|           1002|   France|\n",
      "|       10180|2024-01-22|          1|    951.87|In Process|  S10_2016|           1002|   Norway|\n",
      "|       10188|2024-01-21|         65|    95.202| Cancelled|  S10_4698|           1002|Australia|\n",
      "|       10201|2024-01-26|          8|    951.17|   On Hold|  S10_4757|           1221|  Finland|\n",
      "+------------+----------+-----------+----------+----------+----------+---------------+---------+\n",
      "\n"
     ]
    }
   ],
   "source": [
    "init_data_df.show(5)"
   ]
  },
  {
   "cell_type": "code",
   "execution_count": 11,
   "id": "9dd01b09-d285-4fb9-94f5-a12d18f0832c",
   "metadata": {},
   "outputs": [
    {
     "name": "stdout",
     "output_type": "stream",
     "text": [
      "++\n",
      "||\n",
      "++\n",
      "++\n",
      "\n"
     ]
    }
   ],
   "source": [
    "spark.sql(\"USE iceberg\").show()"
   ]
  },
  {
   "cell_type": "code",
   "execution_count": 12,
   "id": "9319f2f6-ba57-467e-b017-a6a6750870df",
   "metadata": {},
   "outputs": [
    {
     "name": "stdout",
     "output_type": "stream",
     "text": [
      "+-------------+\n",
      "|      catalog|\n",
      "+-------------+\n",
      "|      iceberg|\n",
      "|spark_catalog|\n",
      "+-------------+\n",
      "\n"
     ]
    }
   ],
   "source": [
    "spark.sql(\"show catalogs\").show()"
   ]
  },
  {
   "cell_type": "markdown",
   "id": "f8cbff15-7158-4b4d-9262-082762c66e27",
   "metadata": {},
   "source": [
    "### Criar Tabela\n",
    "- ``` df.writeTo(t).create() ``` é equivalente a ``` CREATE TABLE AS SELECT ```\n",
    "- ``` df.writeTo(t).replace() ``` é equivalente a ``` REPLACE TABLE AS SELECT ```\n",
    "- ``` df.writeTo(t).append() ``` é equivalente a ``` INSERT INTO ```\n",
    "- ``` df.writeTo(t).overwritePartitions() ``` é equivalente a dynamic ``` INSERT OVERWRITE ```\n",
    "fonte: https://iceberg.apache.org/docs/1.6.0/spark-writes/?h=df.writeto%28t%29.create%28%29#writing-with-dataframes"
   ]
  },
  {
   "cell_type": "code",
   "execution_count": 24,
   "id": "2208eec6-2f6f-47bc-8f7e-6722dc33f11e",
   "metadata": {},
   "outputs": [],
   "source": [
    "# Escrever tabela no storage\n",
    "(\n",
    "    init_data_df\n",
    "    .writeTo(\"iceberg.bronze.vendas\")\n",
    "    .partitionedBy(\"country\")\n",
    "    .createOrReplace()\n",
    ")"
   ]
  },
  {
   "cell_type": "code",
   "execution_count": 25,
   "id": "891ec1f6-7ab6-417d-8b54-9c31054842ca",
   "metadata": {},
   "outputs": [
    {
     "name": "stdout",
     "output_type": "stream",
     "text": [
      "+---------+---------+-----------+\n",
      "|namespace|tableName|isTemporary|\n",
      "+---------+---------+-----------+\n",
      "|   bronze|   vendas|      false|\n",
      "+---------+---------+-----------+\n",
      "\n"
     ]
    }
   ],
   "source": [
    "spark.sql(\"SHOW TABLES in bronze\").show()"
   ]
  },
  {
   "cell_type": "code",
   "execution_count": 15,
   "id": "7de5655e-1228-4a2a-8475-b68ffe3c81be",
   "metadata": {},
   "outputs": [
    {
     "name": "stderr",
     "output_type": "stream",
     "text": [
      "[Stage 6:>                                                          (0 + 1) / 1]\r"
     ]
    },
    {
     "name": "stdout",
     "output_type": "stream",
     "text": [
      "+------------+----------+-----------+----------+----------+----------+---------------+---------+\n",
      "|order_number|order_date|qty_ordered|unit_price|    status|product_id|product_line_id|  country|\n",
      "+------------+----------+-----------+----------+----------+----------+---------------+---------+\n",
      "|       10180|2024-01-22|          1|    951.87|In Process|  S10_2016|           1002|   Norway|\n",
      "|       10201|2024-01-26|          8|    951.17|   On Hold|  S10_4757|           1221|  Finland|\n",
      "|       10168|2024-01-23|          5|    98.115|  Disputed|  S10_1949|           1002|   France|\n",
      "|       10188|2024-01-21|         65|    95.202| Cancelled|  S10_4698|           1002|Australia|\n",
      "+------------+----------+-----------+----------+----------+----------+---------------+---------+\n",
      "\n"
     ]
    },
    {
     "name": "stderr",
     "output_type": "stream",
     "text": [
      "                                                                                \r"
     ]
    }
   ],
   "source": [
    "## Visualizar os dados simples e leve\n",
    "\n",
    "spark.sql(\"SELECT * FROM iceberg.bronze.vendas\").show()"
   ]
  },
  {
   "cell_type": "code",
   "execution_count": 16,
   "id": "e55dfc2e-9a43-46d1-b724-31ccd4f2e13d",
   "metadata": {},
   "outputs": [
    {
     "data": {
      "text/html": [
       "<div>\n",
       "<style scoped>\n",
       "    .dataframe tbody tr th:only-of-type {\n",
       "        vertical-align: middle;\n",
       "    }\n",
       "\n",
       "    .dataframe tbody tr th {\n",
       "        vertical-align: top;\n",
       "    }\n",
       "\n",
       "    .dataframe thead th {\n",
       "        text-align: right;\n",
       "    }\n",
       "</style>\n",
       "<table border=\"1\" class=\"dataframe\">\n",
       "  <thead>\n",
       "    <tr style=\"text-align: right;\">\n",
       "      <th></th>\n",
       "      <th>order_number</th>\n",
       "      <th>order_date</th>\n",
       "      <th>qty_ordered</th>\n",
       "      <th>unit_price</th>\n",
       "      <th>status</th>\n",
       "      <th>product_id</th>\n",
       "      <th>product_line_id</th>\n",
       "      <th>country</th>\n",
       "    </tr>\n",
       "  </thead>\n",
       "  <tbody>\n",
       "    <tr>\n",
       "      <th>0</th>\n",
       "      <td>10180</td>\n",
       "      <td>2024-01-22</td>\n",
       "      <td>1</td>\n",
       "      <td>951.87</td>\n",
       "      <td>In Process</td>\n",
       "      <td>S10_2016</td>\n",
       "      <td>1002</td>\n",
       "      <td>Norway</td>\n",
       "    </tr>\n",
       "    <tr>\n",
       "      <th>1</th>\n",
       "      <td>10201</td>\n",
       "      <td>2024-01-26</td>\n",
       "      <td>8</td>\n",
       "      <td>951.17</td>\n",
       "      <td>On Hold</td>\n",
       "      <td>S10_4757</td>\n",
       "      <td>1221</td>\n",
       "      <td>Finland</td>\n",
       "    </tr>\n",
       "    <tr>\n",
       "      <th>2</th>\n",
       "      <td>10168</td>\n",
       "      <td>2024-01-23</td>\n",
       "      <td>5</td>\n",
       "      <td>98.115</td>\n",
       "      <td>Disputed</td>\n",
       "      <td>S10_1949</td>\n",
       "      <td>1002</td>\n",
       "      <td>France</td>\n",
       "    </tr>\n",
       "    <tr>\n",
       "      <th>3</th>\n",
       "      <td>10188</td>\n",
       "      <td>2024-01-21</td>\n",
       "      <td>65</td>\n",
       "      <td>95.202</td>\n",
       "      <td>Cancelled</td>\n",
       "      <td>S10_4698</td>\n",
       "      <td>1002</td>\n",
       "      <td>Australia</td>\n",
       "    </tr>\n",
       "  </tbody>\n",
       "</table>\n",
       "</div>"
      ],
      "text/plain": [
       "  order_number  order_date qty_ordered unit_price      status product_id  \\\n",
       "0        10180  2024-01-22           1     951.87  In Process   S10_2016   \n",
       "1        10201  2024-01-26           8     951.17     On Hold   S10_4757   \n",
       "2        10168  2024-01-23           5     98.115    Disputed   S10_1949   \n",
       "3        10188  2024-01-21          65     95.202   Cancelled   S10_4698   \n",
       "\n",
       "  product_line_id    country  \n",
       "0            1002     Norway  \n",
       "1            1221    Finland  \n",
       "2            1002     France  \n",
       "3            1002  Australia  "
      ]
     },
     "execution_count": 16,
     "metadata": {},
     "output_type": "execute_result"
    }
   ],
   "source": [
    "## Visualizar os dados\n",
    "\n",
    "spark.sql(\"SELECT * FROM iceberg.bronze.vendas\").toPandas()"
   ]
  },
  {
   "cell_type": "code",
   "execution_count": 26,
   "id": "b60da4c6-e0df-4484-abb5-d6265e1d2153",
   "metadata": {},
   "outputs": [],
   "source": [
    "## Inserir novos dados\n",
    "\n",
    "feb_data_df = create_dataframe(columns_schema, feb_data)\n",
    "\n",
    "feb_data_df.writeTo(\"iceberg.bronze.vendas\").append()"
   ]
  },
  {
   "cell_type": "markdown",
   "id": "cdd1979c-f850-4921-aa2a-48760bad79ca",
   "metadata": {},
   "source": [
    "### Primeiras Impressões"
   ]
  },
  {
   "cell_type": "code",
   "execution_count": 18,
   "id": "c3b79651-d9e2-478d-b56c-d9c399047d12",
   "metadata": {},
   "outputs": [
    {
     "name": "stdout",
     "output_type": "stream",
     "text": [
      "+--------------------+---------+-------+\n",
      "|            col_name|data_type|comment|\n",
      "+--------------------+---------+-------+\n",
      "|        order_number|   string|   NULL|\n",
      "|          order_date|   string|   NULL|\n",
      "|         qty_ordered|   string|   NULL|\n",
      "|          unit_price|   string|   NULL|\n",
      "|              status|   string|   NULL|\n",
      "|          product_id|   string|   NULL|\n",
      "|     product_line_id|   string|   NULL|\n",
      "|             country|   string|   NULL|\n",
      "|# Partition Infor...|         |       |\n",
      "|          # col_name|data_type|comment|\n",
      "|             country|   string|   NULL|\n",
      "+--------------------+---------+-------+\n",
      "\n"
     ]
    }
   ],
   "source": [
    "## Descrever tabela\n",
    "\n",
    "spark.sql(\"DESCRIBE iceberg.bronze.vendas\").show()"
   ]
  },
  {
   "cell_type": "code",
   "execution_count": 19,
   "id": "3befd7c7-de5c-48ec-8a2c-e4fb589b1b5c",
   "metadata": {},
   "outputs": [
    {
     "name": "stdout",
     "output_type": "stream",
     "text": [
      "+--------------------+-------------------+-------------------+-------------------+\n",
      "|     made_current_at|        snapshot_id|          parent_id|is_current_ancestor|\n",
      "+--------------------+-------------------+-------------------+-------------------+\n",
      "|2024-10-25 19:57:...|2782458204956677777|               NULL|               true|\n",
      "|2024-10-25 19:58:...|5095974369396353990|2782458204956677777|               true|\n",
      "+--------------------+-------------------+-------------------+-------------------+\n",
      "\n"
     ]
    }
   ],
   "source": [
    "## Inspecionar tabelas\n",
    "\n",
    "spark.sql(\"SELECT * FROM iceberg.bronze.vendas.history\").show()"
   ]
  },
  {
   "cell_type": "code",
   "execution_count": 20,
   "id": "858756f9-2a1c-43ff-baf4-0b79ae282b07",
   "metadata": {},
   "outputs": [
    {
     "data": {
      "text/html": [
       "<div>\n",
       "<style scoped>\n",
       "    .dataframe tbody tr th:only-of-type {\n",
       "        vertical-align: middle;\n",
       "    }\n",
       "\n",
       "    .dataframe tbody tr th {\n",
       "        vertical-align: top;\n",
       "    }\n",
       "\n",
       "    .dataframe thead th {\n",
       "        text-align: right;\n",
       "    }\n",
       "</style>\n",
       "<table border=\"1\" class=\"dataframe\">\n",
       "  <thead>\n",
       "    <tr style=\"text-align: right;\">\n",
       "      <th></th>\n",
       "      <th>key</th>\n",
       "      <th>value</th>\n",
       "    </tr>\n",
       "  </thead>\n",
       "  <tbody>\n",
       "    <tr>\n",
       "      <th>0</th>\n",
       "      <td>current-snapshot-id</td>\n",
       "      <td>5095974369396353990</td>\n",
       "    </tr>\n",
       "    <tr>\n",
       "      <th>1</th>\n",
       "      <td>format</td>\n",
       "      <td>iceberg/parquet</td>\n",
       "    </tr>\n",
       "    <tr>\n",
       "      <th>2</th>\n",
       "      <td>format-version</td>\n",
       "      <td>2</td>\n",
       "    </tr>\n",
       "    <tr>\n",
       "      <th>3</th>\n",
       "      <td>write.parquet.compression-codec</td>\n",
       "      <td>zstd</td>\n",
       "    </tr>\n",
       "  </tbody>\n",
       "</table>\n",
       "</div>"
      ],
      "text/plain": [
       "                               key                value\n",
       "0              current-snapshot-id  5095974369396353990\n",
       "1                           format      iceberg/parquet\n",
       "2                   format-version                    2\n",
       "3  write.parquet.compression-codec                 zstd"
      ]
     },
     "execution_count": 20,
     "metadata": {},
     "output_type": "execute_result"
    }
   ],
   "source": [
    "spark.sql(\"SHOW TBLPROPERTIES iceberg.bronze.vendas\").toPandas()"
   ]
  },
  {
   "cell_type": "code",
   "execution_count": 21,
   "id": "a3dd43b3-7f73-409f-bf01-47aa12482562",
   "metadata": {},
   "outputs": [
    {
     "name": "stdout",
     "output_type": "stream",
     "text": [
      "+--------+\n",
      "|count(1)|\n",
      "+--------+\n",
      "|       9|\n",
      "+--------+\n",
      "\n"
     ]
    }
   ],
   "source": [
    "spark.sql(\"SELECT COUNT(*) FROM iceberg.bronze.vendas\").show()"
   ]
  },
  {
   "cell_type": "markdown",
   "id": "3dd44665-4f6d-4335-b22d-56c0754f23f1",
   "metadata": {},
   "source": [
    "## Testes"
   ]
  },
  {
   "cell_type": "code",
   "execution_count": 22,
   "id": "46c9af6b-e037-4943-8b06-afc87c368fec",
   "metadata": {},
   "outputs": [
    {
     "name": "stderr",
     "output_type": "stream",
     "text": [
      "                                                                                \r"
     ]
    },
    {
     "data": {
      "text/plain": [
       "DataFrame[]"
      ]
     },
     "execution_count": 22,
     "metadata": {},
     "output_type": "execute_result"
    }
   ],
   "source": [
    "## Para deletar por completo do catalog e storage\n",
    "spark.sql(\"DROP TABLE iceberg.bronze.vendas PURGE\")"
   ]
  },
  {
   "cell_type": "code",
   "execution_count": 27,
   "id": "bf4b66d1-fb25-4713-99f6-6c82b0a83b62",
   "metadata": {},
   "outputs": [],
   "source": [
    "spark.stop()"
   ]
  }
 ],
 "metadata": {
  "kernelspec": {
   "display_name": "Python 3 (ipykernel)",
   "language": "python",
   "name": "python3"
  },
  "language_info": {
   "codemirror_mode": {
    "name": "ipython",
    "version": 3
   },
   "file_extension": ".py",
   "mimetype": "text/x-python",
   "name": "python",
   "nbconvert_exporter": "python",
   "pygments_lexer": "ipython3",
   "version": "3.8.10"
  }
 },
 "nbformat": 4,
 "nbformat_minor": 5
}
